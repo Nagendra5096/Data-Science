{
 "cells": [
  {
   "cell_type": "code",
   "execution_count": 88,
   "id": "1d3dc6a2",
   "metadata": {},
   "outputs": [],
   "source": [
    "img_name = [\"Airplane\",\"Automobile\",\"Bird\",\"Cat\",\"Derr\",\"Dog\",\"Frog\",\"Horse\",\"Ship\",\"Truck\"]"
   ]
  },
  {
   "cell_type": "code",
   "execution_count": 89,
   "id": "ebcce49e",
   "metadata": {},
   "outputs": [],
   "source": [
    "import pandas as pd"
   ]
  },
  {
   "cell_type": "code",
   "execution_count": 90,
   "id": "5a3b783b",
   "metadata": {},
   "outputs": [],
   "source": [
    "import matplotlib.pyplot as plt"
   ]
  },
  {
   "cell_type": "code",
   "execution_count": 91,
   "id": "aeb56670",
   "metadata": {},
   "outputs": [],
   "source": [
    "import numpy as np"
   ]
  },
  {
   "cell_type": "code",
   "execution_count": 92,
   "id": "5c8d3a06",
   "metadata": {},
   "outputs": [],
   "source": [
    "import tensorflow as tf"
   ]
  },
  {
   "cell_type": "code",
   "execution_count": 93,
   "id": "201ed51a",
   "metadata": {},
   "outputs": [],
   "source": [
    "from tensorflow.keras.datasets import cifar10 "
   ]
  },
  {
   "cell_type": "code",
   "execution_count": 94,
   "id": "b4548798",
   "metadata": {
    "scrolled": false
   },
   "outputs": [],
   "source": [
    "(x_train,y_train),(x_test,y_test) = cifar10.load_data()"
   ]
  },
  {
   "cell_type": "code",
   "execution_count": 95,
   "id": "550a2e03",
   "metadata": {},
   "outputs": [
    {
     "data": {
      "text/plain": [
       "array([[[[ 59,  62,  63],\n",
       "         [ 43,  46,  45],\n",
       "         [ 50,  48,  43],\n",
       "         ...,\n",
       "         [158, 132, 108],\n",
       "         [152, 125, 102],\n",
       "         [148, 124, 103]],\n",
       "\n",
       "        [[ 16,  20,  20],\n",
       "         [  0,   0,   0],\n",
       "         [ 18,   8,   0],\n",
       "         ...,\n",
       "         [123,  88,  55],\n",
       "         [119,  83,  50],\n",
       "         [122,  87,  57]],\n",
       "\n",
       "        [[ 25,  24,  21],\n",
       "         [ 16,   7,   0],\n",
       "         [ 49,  27,   8],\n",
       "         ...,\n",
       "         [118,  84,  50],\n",
       "         [120,  84,  50],\n",
       "         [109,  73,  42]],\n",
       "\n",
       "        ...,\n",
       "\n",
       "        [[208, 170,  96],\n",
       "         [201, 153,  34],\n",
       "         [198, 161,  26],\n",
       "         ...,\n",
       "         [160, 133,  70],\n",
       "         [ 56,  31,   7],\n",
       "         [ 53,  34,  20]],\n",
       "\n",
       "        [[180, 139,  96],\n",
       "         [173, 123,  42],\n",
       "         [186, 144,  30],\n",
       "         ...,\n",
       "         [184, 148,  94],\n",
       "         [ 97,  62,  34],\n",
       "         [ 83,  53,  34]],\n",
       "\n",
       "        [[177, 144, 116],\n",
       "         [168, 129,  94],\n",
       "         [179, 142,  87],\n",
       "         ...,\n",
       "         [216, 184, 140],\n",
       "         [151, 118,  84],\n",
       "         [123,  92,  72]]],\n",
       "\n",
       "\n",
       "       [[[154, 177, 187],\n",
       "         [126, 137, 136],\n",
       "         [105, 104,  95],\n",
       "         ...,\n",
       "         [ 91,  95,  71],\n",
       "         [ 87,  90,  71],\n",
       "         [ 79,  81,  70]],\n",
       "\n",
       "        [[140, 160, 169],\n",
       "         [145, 153, 154],\n",
       "         [125, 125, 118],\n",
       "         ...,\n",
       "         [ 96,  99,  78],\n",
       "         [ 77,  80,  62],\n",
       "         [ 71,  73,  61]],\n",
       "\n",
       "        [[140, 155, 164],\n",
       "         [139, 146, 149],\n",
       "         [115, 115, 112],\n",
       "         ...,\n",
       "         [ 79,  82,  64],\n",
       "         [ 68,  70,  55],\n",
       "         [ 67,  69,  55]],\n",
       "\n",
       "        ...,\n",
       "\n",
       "        [[175, 167, 166],\n",
       "         [156, 154, 160],\n",
       "         [154, 160, 170],\n",
       "         ...,\n",
       "         [ 42,  34,  36],\n",
       "         [ 61,  53,  57],\n",
       "         [ 93,  83,  91]],\n",
       "\n",
       "        [[165, 154, 128],\n",
       "         [156, 152, 130],\n",
       "         [159, 161, 142],\n",
       "         ...,\n",
       "         [103,  93,  96],\n",
       "         [123, 114, 120],\n",
       "         [131, 121, 131]],\n",
       "\n",
       "        [[163, 148, 120],\n",
       "         [158, 148, 122],\n",
       "         [163, 156, 133],\n",
       "         ...,\n",
       "         [143, 133, 139],\n",
       "         [143, 134, 142],\n",
       "         [143, 133, 144]]],\n",
       "\n",
       "\n",
       "       [[[255, 255, 255],\n",
       "         [253, 253, 253],\n",
       "         [253, 253, 253],\n",
       "         ...,\n",
       "         [253, 253, 253],\n",
       "         [253, 253, 253],\n",
       "         [253, 253, 253]],\n",
       "\n",
       "        [[255, 255, 255],\n",
       "         [255, 255, 255],\n",
       "         [255, 255, 255],\n",
       "         ...,\n",
       "         [255, 255, 255],\n",
       "         [255, 255, 255],\n",
       "         [255, 255, 255]],\n",
       "\n",
       "        [[255, 255, 255],\n",
       "         [254, 254, 254],\n",
       "         [254, 254, 254],\n",
       "         ...,\n",
       "         [254, 254, 254],\n",
       "         [254, 254, 254],\n",
       "         [254, 254, 254]],\n",
       "\n",
       "        ...,\n",
       "\n",
       "        [[113, 120, 112],\n",
       "         [111, 118, 111],\n",
       "         [105, 112, 106],\n",
       "         ...,\n",
       "         [ 72,  81,  80],\n",
       "         [ 72,  80,  79],\n",
       "         [ 72,  80,  79]],\n",
       "\n",
       "        [[111, 118, 110],\n",
       "         [104, 111, 104],\n",
       "         [ 99, 106,  98],\n",
       "         ...,\n",
       "         [ 68,  75,  73],\n",
       "         [ 70,  76,  75],\n",
       "         [ 78,  84,  82]],\n",
       "\n",
       "        [[106, 113, 105],\n",
       "         [ 99, 106,  98],\n",
       "         [ 95, 102,  94],\n",
       "         ...,\n",
       "         [ 78,  85,  83],\n",
       "         [ 79,  85,  83],\n",
       "         [ 80,  86,  84]]],\n",
       "\n",
       "\n",
       "       ...,\n",
       "\n",
       "\n",
       "       [[[ 35, 178, 235],\n",
       "         [ 40, 176, 239],\n",
       "         [ 42, 176, 241],\n",
       "         ...,\n",
       "         [ 99, 177, 219],\n",
       "         [ 79, 147, 197],\n",
       "         [ 89, 148, 189]],\n",
       "\n",
       "        [[ 57, 182, 234],\n",
       "         [ 44, 184, 250],\n",
       "         [ 50, 183, 240],\n",
       "         ...,\n",
       "         [156, 182, 200],\n",
       "         [141, 177, 206],\n",
       "         [116, 149, 175]],\n",
       "\n",
       "        [[ 98, 197, 237],\n",
       "         [ 64, 189, 252],\n",
       "         [ 69, 192, 245],\n",
       "         ...,\n",
       "         [188, 195, 206],\n",
       "         [119, 135, 147],\n",
       "         [ 61,  79,  90]],\n",
       "\n",
       "        ...,\n",
       "\n",
       "        [[ 73,  79,  77],\n",
       "         [ 53,  63,  68],\n",
       "         [ 54,  68,  80],\n",
       "         ...,\n",
       "         [ 17,  40,  64],\n",
       "         [ 21,  36,  51],\n",
       "         [ 33,  48,  49]],\n",
       "\n",
       "        [[ 61,  68,  75],\n",
       "         [ 55,  70,  86],\n",
       "         [ 57,  79, 103],\n",
       "         ...,\n",
       "         [ 24,  48,  72],\n",
       "         [ 17,  35,  53],\n",
       "         [  7,  23,  32]],\n",
       "\n",
       "        [[ 44,  56,  73],\n",
       "         [ 46,  66,  88],\n",
       "         [ 49,  77, 105],\n",
       "         ...,\n",
       "         [ 27,  52,  77],\n",
       "         [ 21,  43,  66],\n",
       "         [ 12,  31,  50]]],\n",
       "\n",
       "\n",
       "       [[[189, 211, 240],\n",
       "         [186, 208, 236],\n",
       "         [185, 207, 235],\n",
       "         ...,\n",
       "         [175, 195, 224],\n",
       "         [172, 194, 222],\n",
       "         [169, 194, 220]],\n",
       "\n",
       "        [[194, 210, 239],\n",
       "         [191, 207, 236],\n",
       "         [190, 206, 235],\n",
       "         ...,\n",
       "         [173, 192, 220],\n",
       "         [171, 191, 218],\n",
       "         [167, 190, 216]],\n",
       "\n",
       "        [[208, 219, 244],\n",
       "         [205, 216, 240],\n",
       "         [204, 215, 239],\n",
       "         ...,\n",
       "         [175, 191, 217],\n",
       "         [172, 190, 216],\n",
       "         [169, 191, 215]],\n",
       "\n",
       "        ...,\n",
       "\n",
       "        [[207, 199, 181],\n",
       "         [203, 195, 175],\n",
       "         [203, 196, 173],\n",
       "         ...,\n",
       "         [135, 132, 127],\n",
       "         [162, 158, 150],\n",
       "         [168, 163, 151]],\n",
       "\n",
       "        [[198, 190, 170],\n",
       "         [189, 181, 159],\n",
       "         [180, 172, 147],\n",
       "         ...,\n",
       "         [178, 171, 160],\n",
       "         [175, 169, 156],\n",
       "         [175, 169, 154]],\n",
       "\n",
       "        [[198, 189, 173],\n",
       "         [189, 181, 162],\n",
       "         [178, 170, 149],\n",
       "         ...,\n",
       "         [195, 184, 169],\n",
       "         [196, 189, 171],\n",
       "         [195, 190, 171]]],\n",
       "\n",
       "\n",
       "       [[[229, 229, 239],\n",
       "         [236, 237, 247],\n",
       "         [234, 236, 247],\n",
       "         ...,\n",
       "         [217, 219, 233],\n",
       "         [221, 223, 234],\n",
       "         [222, 223, 233]],\n",
       "\n",
       "        [[222, 221, 229],\n",
       "         [239, 239, 249],\n",
       "         [233, 234, 246],\n",
       "         ...,\n",
       "         [223, 223, 236],\n",
       "         [227, 228, 238],\n",
       "         [210, 211, 220]],\n",
       "\n",
       "        [[213, 206, 211],\n",
       "         [234, 232, 239],\n",
       "         [231, 233, 244],\n",
       "         ...,\n",
       "         [220, 220, 232],\n",
       "         [220, 219, 232],\n",
       "         [202, 203, 215]],\n",
       "\n",
       "        ...,\n",
       "\n",
       "        [[150, 143, 135],\n",
       "         [140, 135, 127],\n",
       "         [132, 127, 120],\n",
       "         ...,\n",
       "         [224, 222, 218],\n",
       "         [230, 228, 225],\n",
       "         [241, 241, 238]],\n",
       "\n",
       "        [[137, 132, 126],\n",
       "         [130, 127, 120],\n",
       "         [125, 121, 115],\n",
       "         ...,\n",
       "         [181, 180, 178],\n",
       "         [202, 201, 198],\n",
       "         [212, 211, 207]],\n",
       "\n",
       "        [[122, 119, 114],\n",
       "         [118, 116, 110],\n",
       "         [120, 116, 111],\n",
       "         ...,\n",
       "         [179, 177, 173],\n",
       "         [164, 164, 162],\n",
       "         [163, 163, 161]]]], dtype=uint8)"
      ]
     },
     "execution_count": 95,
     "metadata": {},
     "output_type": "execute_result"
    }
   ],
   "source": [
    "x_train\n"
   ]
  },
  {
   "cell_type": "code",
   "execution_count": 96,
   "id": "768fa7b1",
   "metadata": {},
   "outputs": [
    {
     "data": {
      "text/plain": [
       "array([[[126, 100,  71],\n",
       "        [102,  76,  49],\n",
       "        [117,  93,  60],\n",
       "        ...,\n",
       "        [ 96,  74,  42],\n",
       "        [113,  90,  58],\n",
       "        [107,  84,  52]],\n",
       "\n",
       "       [[135, 109,  73],\n",
       "        [113,  86,  52],\n",
       "        [121,  94,  56],\n",
       "        ...,\n",
       "        [115,  89,  58],\n",
       "        [114,  89,  55],\n",
       "        [115,  90,  53]],\n",
       "\n",
       "       [[126, 102,  61],\n",
       "        [124,  97,  59],\n",
       "        [128, 101,  60],\n",
       "        ...,\n",
       "        [134, 109,  77],\n",
       "        [115,  90,  55],\n",
       "        [114,  90,  50]],\n",
       "\n",
       "       ...,\n",
       "\n",
       "       [[141, 111,  85],\n",
       "        [155, 123,  87],\n",
       "        [134, 102,  65],\n",
       "        ...,\n",
       "        [149, 140, 118],\n",
       "        [147, 133, 116],\n",
       "        [122, 106,  94]],\n",
       "\n",
       "       [[153, 122,  83],\n",
       "        [164, 132,  89],\n",
       "        [146, 119,  81],\n",
       "        ...,\n",
       "        [163, 156, 147],\n",
       "        [189, 178, 174],\n",
       "        [184, 174, 173]],\n",
       "\n",
       "       [[125, 100,  56],\n",
       "        [129, 106,  64],\n",
       "        [124, 102,  68],\n",
       "        ...,\n",
       "        [133, 127, 124],\n",
       "        [180, 173, 174],\n",
       "        [168, 162, 164]]], dtype=uint8)"
      ]
     },
     "execution_count": 96,
     "metadata": {},
     "output_type": "execute_result"
    }
   ],
   "source": [
    "x_train[23]"
   ]
  },
  {
   "cell_type": "code",
   "execution_count": 97,
   "id": "f3921abf",
   "metadata": {},
   "outputs": [
    {
     "data": {
      "text/plain": [
       "<matplotlib.image.AxesImage at 0x1f24d4bba90>"
      ]
     },
     "execution_count": 97,
     "metadata": {},
     "output_type": "execute_result"
    },
    {
     "data": {
      "image/png": "[encoded data removed]",
      "text/plain": [
       "<Figure size 640x480 with 1 Axes>"
      ]
     },
     "metadata": {},
     "output_type": "display_data"
    }
   ],
   "source": [
    "plt.imshow(x_train[23])"
   ]
  },
  {
   "cell_type": "code",
   "execution_count": 98,
   "id": "8c9d3c82",
   "metadata": {},
   "outputs": [
    {
     "data": {
      "text/plain": [
       "array([6], dtype=uint8)"
      ]
     },
     "execution_count": 98,
     "metadata": {},
     "output_type": "execute_result"
    }
   ],
   "source": [
    "y_train[23]"
   ]
  },
  {
   "cell_type": "code",
   "execution_count": 99,
   "id": "f3e9333a",
   "metadata": {},
   "outputs": [
    {
     "data": {
      "text/plain": [
       "'Frog'"
      ]
     },
     "execution_count": 99,
     "metadata": {},
     "output_type": "execute_result"
    }
   ],
   "source": [
    "img_name[6]"
   ]
  },
  {
   "cell_type": "markdown",
   "id": "0d4eea1f",
   "metadata": {},
   "source": [
    "# Scaling\n"
   ]
  },
  {
   "cell_type": "code",
   "execution_count": 100,
   "id": "43efbdc7",
   "metadata": {},
   "outputs": [],
   "source": [
    "x_train_scale = x_train /255.0"
   ]
  },
  {
   "cell_type": "code",
   "execution_count": 101,
   "id": "6efee6cd",
   "metadata": {},
   "outputs": [],
   "source": [
    "x_test_scale = x_test/255.0"
   ]
  },
  {
   "cell_type": "markdown",
   "id": "0a976052",
   "metadata": {},
   "source": [
    "# Sequential Mode"
   ]
  },
  {
   "cell_type": "code",
   "execution_count": 102,
   "id": "18db2afa",
   "metadata": {},
   "outputs": [],
   "source": [
    "from tensorflow.keras.models import Sequential"
   ]
  },
  {
   "cell_type": "code",
   "execution_count": 103,
   "id": "105375c4",
   "metadata": {},
   "outputs": [],
   "source": [
    "from tensorflow.keras.layers import Flatten,Conv2D,MaxPooling2D,Dense,Input"
   ]
  },
  {
   "cell_type": "code",
   "execution_count": 104,
   "id": "9e1259db",
   "metadata": {},
   "outputs": [],
   "source": [
    "smodel = Sequential()\n",
    "smodel.add(Input(shape=(32,32,3)))"
   ]
  },
  {
   "cell_type": "markdown",
   "id": "6571c78e",
   "metadata": {},
   "source": [
    "# First Convolutional Layer"
   ]
  },
  {
   "cell_type": "code",
   "execution_count": 105,
   "id": "ead0b1cd",
   "metadata": {},
   "outputs": [],
   "source": [
    "smodel.add( Conv2D ( filters = 32 , kernel_size = (3,3) , activation = \"relu\" , strides= (1,1) , padding=\"valid\"))\n",
    "smodel.add(MaxPooling2D(pool_size=(2,2) , strides=2 , padding=\"valid\"))"
   ]
  },
  {
   "cell_type": "markdown",
   "id": "c65fcf11",
   "metadata": {},
   "source": [
    "# Second Convolutional Layer"
   ]
  },
  {
   "cell_type": "code",
   "execution_count": 106,
   "id": "2cf739ee",
   "metadata": {},
   "outputs": [],
   "source": [
    "smodel.add( Conv2D ( filters = 32 , kernel_size = (3,3) , activation = \"relu\" , strides= (1,1) , padding=\"valid\"))\n",
    "smodel.add(MaxPooling2D(pool_size=(2,2) , strides=2 , padding=\"valid\"))"
   ]
  },
  {
   "cell_type": "markdown",
   "id": "f8d1aaae",
   "metadata": {},
   "source": [
    "# Third Convolutional Layer"
   ]
  },
  {
   "cell_type": "code",
   "execution_count": 107,
   "id": "c5a89b8f",
   "metadata": {},
   "outputs": [],
   "source": [
    "smodel.add( Conv2D ( filters = 32 , kernel_size = (3,3) , activation = \"relu\" , strides= (1,1) , padding=\"valid\"))\n",
    "smodel.add(MaxPooling2D(pool_size=(2,2) , strides=2 , padding=\"valid\"))"
   ]
  },
  {
   "cell_type": "code",
   "execution_count": 108,
   "id": "c322cb81",
   "metadata": {},
   "outputs": [],
   "source": [
    "smodel.add(Flatten())"
   ]
  },
  {
   "cell_type": "markdown",
   "id": "1cdbeb81",
   "metadata": {},
   "source": [
    "# Fully Connected Layer"
   ]
  },
  {
   "cell_type": "code",
   "execution_count": 109,
   "id": "672228bf",
   "metadata": {},
   "outputs": [],
   "source": [
    "smodel.add(Dense(units=512,activation=\"relu\"))"
   ]
  },
  {
   "cell_type": "code",
   "execution_count": 110,
   "id": "c8bf6281",
   "metadata": {},
   "outputs": [],
   "source": [
    "smodel.add(Dense(units=128,activation=\"relu\"))"
   ]
  },
  {
   "cell_type": "code",
   "execution_count": 111,
   "id": "cfffeda1",
   "metadata": {},
   "outputs": [],
   "source": [
    "smodel.add(Dense(units=64,activation=\"relu\"))"
   ]
  },
  {
   "cell_type": "code",
   "execution_count": 112,
   "id": "0af7c595",
   "metadata": {},
   "outputs": [],
   "source": [
    "smodel.add(Dense(units=32,activation=\"relu\"))"
   ]
  },
  {
   "cell_type": "code",
   "execution_count": 113,
   "id": "3f6f161c",
   "metadata": {},
   "outputs": [],
   "source": [
    "smodel.add(Dense(units=10,activation=\"softmax\"))"
   ]
  },
  {
   "cell_type": "code",
   "execution_count": 114,
   "id": "144193a9",
   "metadata": {},
   "outputs": [
    {
     "name": "stdout",
     "output_type": "stream",
     "text": [
      "Model: \"sequential_6\"\n",
      "_________________________________________________________________\n",
      " Layer (type)                Output Shape              Param #   \n",
      "=================================================================\n",
      " conv2d_12 (Conv2D)          (None, 30, 30, 32)        896       \n",
      "                                                                 \n",
      " max_pooling2d_11 (MaxPooli  (None, 15, 15, 32)        0         \n",
      " ng2D)                                                           \n",
      "                                                                 \n",
      " conv2d_13 (Conv2D)          (None, 13, 13, 32)        9248      \n",
      "                                                                 \n",
      " max_pooling2d_12 (MaxPooli  (None, 6, 6, 32)          0         \n",
      " ng2D)                                                           \n",
      "                                                                 \n",
      " conv2d_14 (Conv2D)          (None, 4, 4, 32)          9248      \n",
      "                                                                 \n",
      " max_pooling2d_13 (MaxPooli  (None, 2, 2, 32)          0         \n",
      " ng2D)                                                           \n",
      "                                                                 \n",
      " flatten_5 (Flatten)         (None, 128)               0         \n",
      "                                                                 \n",
      " dense_26 (Dense)            (None, 512)               66048     \n",
      "                                                                 \n",
      " dense_27 (Dense)            (None, 128)               65664     \n",
      "                                                                 \n",
      " dense_28 (Dense)            (None, 64)                8256      \n",
      "                                                                 \n",
      " dense_29 (Dense)            (None, 32)                2080      \n",
      "                                                                 \n",
      " dense_30 (Dense)            (None, 10)                330       \n",
      "                                                                 \n",
      "=================================================================\n",
      "Total params: 161770 (631.91 KB)\n",
      "Trainable params: 161770 (631.91 KB)\n",
      "Non-trainable params: 0 (0.00 Byte)\n",
      "_________________________________________________________________\n"
     ]
    }
   ],
   "source": [
    "smodel.summary()"
   ]
  },
  {
   "cell_type": "code",
   "execution_count": 115,
   "id": "fc536b10",
   "metadata": {},
   "outputs": [],
   "source": [
    "smodel.compile(optimizer=\"adam\" , loss=\"sparse_categorical_crossentropy\",metrics=[\"accuracy\"])"
   ]
  },
  {
   "cell_type": "code",
   "execution_count": 116,
   "id": "9eaa194a",
   "metadata": {},
   "outputs": [
    {
     "name": "stdout",
     "output_type": "stream",
     "text": [
      "Epoch 1/20\n",
      "1563/1563 [==============================] - 29s 18ms/step - loss: 1.6383 - accuracy: 0.3882\n",
      "Epoch 2/20\n",
      "1563/1563 [==============================] - 30s 19ms/step - loss: 1.2910 - accuracy: 0.5327\n",
      "Epoch 3/20\n",
      "1563/1563 [==============================] - 31s 20ms/step - loss: 1.1503 - accuracy: 0.5903\n",
      "Epoch 4/20\n",
      "1563/1563 [==============================] - 30s 19ms/step - loss: 1.0592 - accuracy: 0.6235\n",
      "Epoch 5/20\n",
      "1563/1563 [==============================] - 30s 19ms/step - loss: 0.9766 - accuracy: 0.6551\n",
      "Epoch 6/20\n",
      "1563/1563 [==============================] - 30s 19ms/step - loss: 0.9145 - accuracy: 0.6802\n",
      "Epoch 7/20\n",
      "1563/1563 [==============================] - 31s 20ms/step - loss: 0.8585 - accuracy: 0.6972\n",
      "Epoch 8/20\n",
      "1563/1563 [==============================] - 31s 20ms/step - loss: 0.8162 - accuracy: 0.7116\n",
      "Epoch 9/20\n",
      "1563/1563 [==============================] - 34s 22ms/step - loss: 0.7723 - accuracy: 0.7282\n",
      "Epoch 10/20\n",
      "1563/1563 [==============================] - 38s 24ms/step - loss: 0.7285 - accuracy: 0.7418\n",
      "Epoch 11/20\n",
      "1563/1563 [==============================] - 67s 43ms/step - loss: 0.6942 - accuracy: 0.7542\n",
      "Epoch 12/20\n",
      "1563/1563 [==============================] - 67s 43ms/step - loss: 0.6635 - accuracy: 0.7665\n",
      "Epoch 13/20\n",
      "1563/1563 [==============================] - 70s 45ms/step - loss: 0.6303 - accuracy: 0.7745\n",
      "Epoch 14/20\n",
      "1563/1563 [==============================] - 68s 44ms/step - loss: 0.5970 - accuracy: 0.7866\n",
      "Epoch 15/20\n",
      "1563/1563 [==============================] - 66s 42ms/step - loss: 0.5689 - accuracy: 0.7988\n",
      "Epoch 16/20\n",
      "1563/1563 [==============================] - 68s 43ms/step - loss: 0.5376 - accuracy: 0.8080\n",
      "Epoch 17/20\n",
      "1563/1563 [==============================] - 67s 43ms/step - loss: 0.5135 - accuracy: 0.8158\n",
      "Epoch 18/20\n",
      "1563/1563 [==============================] - 66s 42ms/step - loss: 0.4891 - accuracy: 0.8246\n",
      "Epoch 19/20\n",
      "1563/1563 [==============================] - 67s 43ms/step - loss: 0.4654 - accuracy: 0.8329\n",
      "Epoch 20/20\n",
      "1563/1563 [==============================] - 69s 44ms/step - loss: 0.4345 - accuracy: 0.8444\n"
     ]
    },
    {
     "data": {
      "text/plain": [
       "<keras.src.callbacks.History at 0x1f27333d150>"
      ]
     },
     "execution_count": 116,
     "metadata": {},
     "output_type": "execute_result"
    }
   ],
   "source": [
    "smodel.fit(x_train_scale,y_train, epochs=20)"
   ]
  },
  {
   "cell_type": "code",
   "execution_count": 117,
   "id": "8e5cbe98",
   "metadata": {},
   "outputs": [
    {
     "name": "stdout",
     "output_type": "stream",
     "text": [
      "313/313 [==============================] - 7s 20ms/step - loss: 1.0641 - accuracy: 0.6902\n"
     ]
    },
    {
     "data": {
      "text/plain": [
       "[1.0641311407089233, 0.6901999711990356]"
      ]
     },
     "execution_count": 117,
     "metadata": {},
     "output_type": "execute_result"
    }
   ],
   "source": [
    "smodel.evaluate(x_test_scale,y_test)"
   ]
  },
  {
   "cell_type": "code",
   "execution_count": 128,
   "id": "110befd1",
   "metadata": {},
   "outputs": [
    {
     "data": {
      "text/plain": [
       "(32, 32, 3)"
      ]
     },
     "execution_count": 128,
     "metadata": {},
     "output_type": "execute_result"
    }
   ],
   "source": [
    "x_test[210].shape"
   ]
  },
  {
   "cell_type": "code",
   "execution_count": 129,
   "id": "5b43e396",
   "metadata": {},
   "outputs": [],
   "source": [
    "img = x_test[210].reshape((1,)+x_test[210].shape)"
   ]
  },
  {
   "cell_type": "code",
   "execution_count": 130,
   "id": "e4055385",
   "metadata": {},
   "outputs": [
    {
     "data": {
      "text/plain": [
       "(1, 32, 32, 3)"
      ]
     },
     "execution_count": 130,
     "metadata": {},
     "output_type": "execute_result"
    }
   ],
   "source": [
    "img.shape"
   ]
  },
  {
   "cell_type": "code",
   "execution_count": 131,
   "id": "d22611ca",
   "metadata": {},
   "outputs": [
    {
     "name": "stdout",
     "output_type": "stream",
     "text": [
      "1/1 [==============================] - 0s 36ms/step\n"
     ]
    },
    {
     "data": {
      "text/plain": [
       "array([[0., 0., 0., 0., 0., 0., 0., 1., 0., 0.]], dtype=float32)"
      ]
     },
     "execution_count": 131,
     "metadata": {},
     "output_type": "execute_result"
    }
   ],
   "source": [
    "smodel.predict(img)"
   ]
  },
  {
   "cell_type": "code",
   "execution_count": 132,
   "id": "4a440f22",
   "metadata": {},
   "outputs": [
    {
     "name": "stdout",
     "output_type": "stream",
     "text": [
      "1/1 [==============================] - 0s 39ms/step\n"
     ]
    },
    {
     "data": {
      "text/plain": [
       "7"
      ]
     },
     "execution_count": 132,
     "metadata": {},
     "output_type": "execute_result"
    }
   ],
   "source": [
    "np.argmax(smodel.predict(img))"
   ]
  },
  {
   "cell_type": "code",
   "execution_count": 135,
   "id": "62b57cd1",
   "metadata": {},
   "outputs": [
    {
     "data": {
      "text/plain": [
       "'Horse'"
      ]
     },
     "execution_count": 135,
     "metadata": {},
     "output_type": "execute_result"
    }
   ],
   "source": [
    "img_name[7]"
   ]
  },
  {
   "cell_type": "code",
   "execution_count": 136,
   "id": "f4b20cce",
   "metadata": {},
   "outputs": [
    {
     "data": {
      "text/plain": [
       "<matplotlib.image.AxesImage at 0x1f1eb2d4850>"
      ]
     },
     "execution_count": 136,
     "metadata": {},
     "output_type": "execute_result"
    },
    {
     "data": {
      "image/png": "[encoded data removed]",
      "text/plain": [
       "<Figure size 640x480 with 1 Axes>"
      ]
     },
     "metadata": {},
     "output_type": "display_data"
    }
   ],
   "source": [
    "plt.imshow(x_test[210])"
   ]
  },
  {
   "cell_type": "code",
   "execution_count": 142,
   "id": "2289d524",
   "metadata": {},
   "outputs": [
    {
     "data": {
      "text/plain": [
       "(32, 32, 3)"
      ]
     },
     "execution_count": 142,
     "metadata": {},
     "output_type": "execute_result"
    }
   ],
   "source": [
    "x_test[5252].shape"
   ]
  },
  {
   "cell_type": "code",
   "execution_count": 143,
   "id": "37c806d7",
   "metadata": {},
   "outputs": [],
   "source": [
    "img1 = x_test[5252].reshape((1,)+x_test[5252].shape)"
   ]
  },
  {
   "cell_type": "code",
   "execution_count": 144,
   "id": "13756018",
   "metadata": {},
   "outputs": [
    {
     "name": "stdout",
     "output_type": "stream",
     "text": [
      "1/1 [==============================] - 0s 51ms/step\n"
     ]
    },
    {
     "data": {
      "text/plain": [
       "array([[0., 0., 0., 0., 1., 0., 0., 0., 0., 0.]], dtype=float32)"
      ]
     },
     "execution_count": 144,
     "metadata": {},
     "output_type": "execute_result"
    }
   ],
   "source": [
    "smodel.predict(img1)"
   ]
  },
  {
   "cell_type": "code",
   "execution_count": 145,
   "id": "d79abf85",
   "metadata": {},
   "outputs": [
    {
     "name": "stdout",
     "output_type": "stream",
     "text": [
      "1/1 [==============================] - 0s 41ms/step\n"
     ]
    },
    {
     "data": {
      "text/plain": [
       "4"
      ]
     },
     "execution_count": 145,
     "metadata": {},
     "output_type": "execute_result"
    }
   ],
   "source": [
    "np.argmax(smodel.predict(img1))"
   ]
  },
  {
   "cell_type": "code",
   "execution_count": 146,
   "id": "c32e884e",
   "metadata": {},
   "outputs": [
    {
     "data": {
      "text/plain": [
       "'Derr'"
      ]
     },
     "execution_count": 146,
     "metadata": {},
     "output_type": "execute_result"
    }
   ],
   "source": [
    "img_name[4]"
   ]
  },
  {
   "cell_type": "code",
   "execution_count": 147,
   "id": "65af72eb",
   "metadata": {},
   "outputs": [
    {
     "data": {
      "text/plain": [
       "<matplotlib.image.AxesImage at 0x1f2370c2ec0>"
      ]
     },
     "execution_count": 147,
     "metadata": {},
     "output_type": "execute_result"
    },
    {
     "data": {
      "image/png": "[encoded data removed]",
      "text/plain": [
       "<Figure size 640x480 with 1 Axes>"
      ]
     },
     "metadata": {},
     "output_type": "display_data"
    }
   ],
   "source": [
    "plt.imshow(x_test[5252])"
   ]
  },
  {
   "cell_type": "code",
   "execution_count": null,
   "id": "0b2d4039",
   "metadata": {},
   "outputs": [],
   "source": []
  }
 ],
 "metadata": {
  "kernelspec": {
   "display_name": "Python 3 (ipykernel)",
   "language": "python",
   "name": "python3"
  },
  "language_info": {
   "codemirror_mode": {
    "name": "ipython",
    "version": 3
   },
   "file_extension": ".py",
   "mimetype": "text/x-python",
   "name": "python",
   "nbconvert_exporter": "python",
   "pygments_lexer": "ipython3",
   "version": "3.10.9"
  }
 },
 "nbformat": 4,
 "nbformat_minor": 5
}
