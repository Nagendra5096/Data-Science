{
 "cells": [
  {
   "cell_type": "code",
   "execution_count": 1,
   "id": "3bfa8b51",
   "metadata": {},
   "outputs": [],
   "source": [
    "import numpy as np"
   ]
  },
  {
   "cell_type": "code",
   "execution_count": 2,
   "id": "f895e042",
   "metadata": {},
   "outputs": [],
   "source": [
    "import pandas as pd"
   ]
  },
  {
   "cell_type": "code",
   "execution_count": 3,
   "id": "e295ca13",
   "metadata": {},
   "outputs": [],
   "source": [
    "import os"
   ]
  },
  {
   "cell_type": "code",
   "execution_count": 4,
   "id": "fa0e8501",
   "metadata": {},
   "outputs": [],
   "source": [
    "import cv2"
   ]
  },
  {
   "cell_type": "code",
   "execution_count": 5,
   "id": "db1935b1",
   "metadata": {},
   "outputs": [],
   "source": [
    "import tensorflow as tf"
   ]
  },
  {
   "cell_type": "code",
   "execution_count": 6,
   "id": "68b0114d",
   "metadata": {},
   "outputs": [],
   "source": [
    "from tensorflow.keras.models import Sequential"
   ]
  },
  {
   "cell_type": "code",
   "execution_count": 7,
   "id": "160fefb3",
   "metadata": {},
   "outputs": [],
   "source": [
    "from tensorflow.keras.layers import Input, Conv2D, MaxPooling2D, Dropout, Flatten, Dense"
   ]
  },
  {
   "cell_type": "code",
   "execution_count": 8,
   "id": "1d11319b",
   "metadata": {},
   "outputs": [],
   "source": [
    "import matplotlib.pyplot as plt"
   ]
  },
  {
   "cell_type": "code",
   "execution_count": 9,
   "id": "a95d4125",
   "metadata": {},
   "outputs": [],
   "source": [
    "path = \"C:/Users/hp/Desktop/Facial_Emotion/\""
   ]
  },
  {
   "cell_type": "code",
   "execution_count": 10,
   "id": "bcdb391c",
   "metadata": {},
   "outputs": [
    {
     "data": {
      "text/plain": [
       "'C:/Users/hp/Desktop/Facial_Emotion/'"
      ]
     },
     "execution_count": 10,
     "metadata": {},
     "output_type": "execute_result"
    }
   ],
   "source": [
    "path"
   ]
  },
  {
   "cell_type": "code",
   "execution_count": 11,
   "id": "0494016c",
   "metadata": {},
   "outputs": [],
   "source": [
    "path_angry = path + \"angry/\""
   ]
  },
  {
   "cell_type": "code",
   "execution_count": 12,
   "id": "607a52b1",
   "metadata": {},
   "outputs": [
    {
     "data": {
      "text/plain": [
       "'C:/Users/hp/Desktop/Facial_Emotion/angry/'"
      ]
     },
     "execution_count": 12,
     "metadata": {},
     "output_type": "execute_result"
    }
   ],
   "source": [
    "path_angry"
   ]
  },
  {
   "cell_type": "code",
   "execution_count": 13,
   "id": "ca0b1b44",
   "metadata": {},
   "outputs": [],
   "source": [
    "path_disgust = path+\"disgust/\""
   ]
  },
  {
   "cell_type": "code",
   "execution_count": 14,
   "id": "0ac94911",
   "metadata": {},
   "outputs": [
    {
     "data": {
      "text/plain": [
       "'C:/Users/hp/Desktop/Facial_Emotion/disgust/'"
      ]
     },
     "execution_count": 14,
     "metadata": {},
     "output_type": "execute_result"
    }
   ],
   "source": [
    "path_disgust"
   ]
  },
  {
   "cell_type": "code",
   "execution_count": 15,
   "id": "93e652e1",
   "metadata": {},
   "outputs": [],
   "source": [
    "path_fear = path + \"fear/\""
   ]
  },
  {
   "cell_type": "code",
   "execution_count": 16,
   "id": "7a1ed901",
   "metadata": {},
   "outputs": [
    {
     "data": {
      "text/plain": [
       "'C:/Users/hp/Desktop/Facial_Emotion/fear/'"
      ]
     },
     "execution_count": 16,
     "metadata": {},
     "output_type": "execute_result"
    }
   ],
   "source": [
    "path_fear"
   ]
  },
  {
   "cell_type": "code",
   "execution_count": 17,
   "id": "d269c5c4",
   "metadata": {},
   "outputs": [],
   "source": [
    "path_happy = path + \"happy/\""
   ]
  },
  {
   "cell_type": "code",
   "execution_count": 18,
   "id": "e1c18059",
   "metadata": {},
   "outputs": [
    {
     "data": {
      "text/plain": [
       "'C:/Users/hp/Desktop/Facial_Emotion/happy/'"
      ]
     },
     "execution_count": 18,
     "metadata": {},
     "output_type": "execute_result"
    }
   ],
   "source": [
    "path_happy"
   ]
  },
  {
   "cell_type": "code",
   "execution_count": 19,
   "id": "025c6c81",
   "metadata": {},
   "outputs": [],
   "source": [
    "path_neutral = path+\"neutral/\""
   ]
  },
  {
   "cell_type": "code",
   "execution_count": 20,
   "id": "1b8cba7f",
   "metadata": {},
   "outputs": [
    {
     "data": {
      "text/plain": [
       "'C:/Users/hp/Desktop/Facial_Emotion/neutral/'"
      ]
     },
     "execution_count": 20,
     "metadata": {},
     "output_type": "execute_result"
    }
   ],
   "source": [
    "path_neutral"
   ]
  },
  {
   "cell_type": "code",
   "execution_count": 21,
   "id": "761ab737",
   "metadata": {},
   "outputs": [],
   "source": [
    "path_sad = path+\"sad/\""
   ]
  },
  {
   "cell_type": "code",
   "execution_count": 22,
   "id": "763a8298",
   "metadata": {},
   "outputs": [
    {
     "data": {
      "text/plain": [
       "'C:/Users/hp/Desktop/Facial_Emotion/sad/'"
      ]
     },
     "execution_count": 22,
     "metadata": {},
     "output_type": "execute_result"
    }
   ],
   "source": [
    "path_sad"
   ]
  },
  {
   "cell_type": "code",
   "execution_count": 23,
   "id": "833e5c00",
   "metadata": {},
   "outputs": [],
   "source": [
    "path_surprise = path+\"surprise/\""
   ]
  },
  {
   "cell_type": "code",
   "execution_count": 24,
   "id": "9c8f68b9",
   "metadata": {},
   "outputs": [
    {
     "data": {
      "text/plain": [
       "'C:/Users/hp/Desktop/Facial_Emotion/surprise/'"
      ]
     },
     "execution_count": 24,
     "metadata": {},
     "output_type": "execute_result"
    }
   ],
   "source": [
    "path_surprise"
   ]
  },
  {
   "cell_type": "code",
   "execution_count": 25,
   "id": "cd0579f9",
   "metadata": {},
   "outputs": [],
   "source": [
    "namelist = [\"angry\", \"disgust\",\"fear\",\"happy\",\"neutral\",\"sad\",\"surprise\"]"
   ]
  },
  {
   "cell_type": "code",
   "execution_count": 26,
   "id": "8af07401",
   "metadata": {},
   "outputs": [
    {
     "data": {
      "text/plain": [
       "['angry', 'disgust', 'fear', 'happy', 'neutral', 'sad', 'surprise']"
      ]
     },
     "execution_count": 26,
     "metadata": {},
     "output_type": "execute_result"
    }
   ],
   "source": [
    "namelist"
   ]
  },
  {
   "cell_type": "code",
   "execution_count": 27,
   "id": "6709937f",
   "metadata": {},
   "outputs": [],
   "source": [
    "path_list = [path_angry, path_disgust, path_fear, path_happy, path_neutral, path_sad, path_surprise]"
   ]
  },
  {
   "cell_type": "code",
   "execution_count": 28,
   "id": "62631830",
   "metadata": {},
   "outputs": [
    {
     "data": {
      "text/plain": [
       "'img_angry'"
      ]
     },
     "execution_count": 28,
     "metadata": {},
     "output_type": "execute_result"
    }
   ],
   "source": [
    "\"img_\"+namelist[0]"
   ]
  },
  {
   "cell_type": "code",
   "execution_count": 29,
   "id": "9f564ccd",
   "metadata": {},
   "outputs": [
    {
     "data": {
      "text/plain": [
       "'C:/Users/hp/Desktop/Facial_Emotion/angry/'"
      ]
     },
     "execution_count": 29,
     "metadata": {},
     "output_type": "execute_result"
    }
   ],
   "source": [
    "path_list[0]"
   ]
  },
  {
   "cell_type": "code",
   "execution_count": 30,
   "id": "e6b2c123",
   "metadata": {},
   "outputs": [],
   "source": [
    "img = \"Image_\""
   ]
  },
  {
   "cell_type": "code",
   "execution_count": 31,
   "id": "494d0b70",
   "metadata": {},
   "outputs": [],
   "source": [
    "import time"
   ]
  },
  {
   "cell_type": "code",
   "execution_count": 32,
   "id": "39b241b9",
   "metadata": {},
   "outputs": [],
   "source": [
    "img_dataset = []\n",
    "img_label = []"
   ]
  },
  {
   "cell_type": "code",
   "execution_count": 33,
   "id": "79158afc",
   "metadata": {},
   "outputs": [],
   "source": [
    "for i in range(len(path_list)):\n",
    "    image_name = os.listdir(path_list[i])\n",
    "    for img in image_name :\n",
    "         image = cv2.imread(path_list[i]+img)\n",
    "         image = cv2.resize(image,(100,100))\n",
    "         img_dataset.append(np.array(image))\n",
    "         img_label.append(i)\n",
    "\n",
    "        \n",
    "         "
   ]
  },
  {
   "cell_type": "code",
   "execution_count": 34,
   "id": "0a3e3ae1",
   "metadata": {},
   "outputs": [
    {
     "data": {
      "text/plain": [
       "28888"
      ]
     },
     "execution_count": 34,
     "metadata": {},
     "output_type": "execute_result"
    }
   ],
   "source": [
    "len(img_dataset)"
   ]
  },
  {
   "cell_type": "code",
   "execution_count": 35,
   "id": "cd9bed27",
   "metadata": {},
   "outputs": [
    {
     "data": {
      "text/plain": [
       "28888"
      ]
     },
     "execution_count": 35,
     "metadata": {},
     "output_type": "execute_result"
    }
   ],
   "source": [
    "len(img_label)"
   ]
  },
  {
   "cell_type": "code",
   "execution_count": 36,
   "id": "34192700",
   "metadata": {},
   "outputs": [],
   "source": [
    "img_dataset_array = np.array(img_dataset)"
   ]
  },
  {
   "cell_type": "code",
   "execution_count": 37,
   "id": "a6aaad8b",
   "metadata": {},
   "outputs": [],
   "source": [
    "img_label_array = np.array(img_label)"
   ]
  },
  {
   "cell_type": "markdown",
   "id": "85f9022d",
   "metadata": {},
   "source": [
    "### Scaling"
   ]
  },
  {
   "cell_type": "code",
   "execution_count": 38,
   "id": "51d05d35",
   "metadata": {},
   "outputs": [],
   "source": [
    "img_dataset_scale = img_dataset_array/255.0"
   ]
  },
  {
   "cell_type": "code",
   "execution_count": 39,
   "id": "ccfc4d22",
   "metadata": {},
   "outputs": [],
   "source": [
    "X = img_dataset_scale"
   ]
  },
  {
   "cell_type": "code",
   "execution_count": 40,
   "id": "024204c6",
   "metadata": {},
   "outputs": [],
   "source": [
    "y = img_label_array"
   ]
  },
  {
   "cell_type": "code",
   "execution_count": 41,
   "id": "8e5a4cc5",
   "metadata": {},
   "outputs": [],
   "source": [
    "from sklearn.model_selection import train_test_split"
   ]
  },
  {
   "cell_type": "code",
   "execution_count": 42,
   "id": "725b578f",
   "metadata": {},
   "outputs": [],
   "source": [
    "X_train, X_test, y_train, y_test = train_test_split(X, y, test_size=0.20, random_state=2)"
   ]
  },
  {
   "cell_type": "code",
   "execution_count": 52,
   "id": "f61166a6",
   "metadata": {},
   "outputs": [
    {
     "data": {
      "text/plain": [
       "(23110, 100, 100, 3)"
      ]
     },
     "execution_count": 52,
     "metadata": {},
     "output_type": "execute_result"
    }
   ],
   "source": [
    "X_train.shape"
   ]
  },
  {
   "cell_type": "code",
   "execution_count": 43,
   "id": "486cccd5",
   "metadata": {},
   "outputs": [],
   "source": [
    "smodel = Sequential()"
   ]
  },
  {
   "cell_type": "code",
   "execution_count": 44,
   "id": "a677fcdf",
   "metadata": {},
   "outputs": [],
   "source": [
    "smodel.add(Input(shape = (100,100,3)))"
   ]
  },
  {
   "cell_type": "code",
   "execution_count": 45,
   "id": "c15c2096",
   "metadata": {},
   "outputs": [],
   "source": [
    "smodel.add(   Conv2D(filters=32, kernel_size=(3,3), activation=\"relu\", strides=(1,1), padding=\"valid\")  )\n",
    "smodel.add( MaxPooling2D(pool_size=(2,2), strides=2, padding=\"valid\"))\n",
    "smodel.add( Dropout(0.20))"
   ]
  },
  {
   "cell_type": "code",
   "execution_count": 46,
   "id": "c077e1ea",
   "metadata": {},
   "outputs": [],
   "source": [
    "smodel.add(   Conv2D(filters=64, kernel_size=(3,3), activation=\"relu\", strides=(1,1), padding=\"valid\")  )\n",
    "smodel.add( MaxPooling2D(pool_size=(2,2), strides=2, padding=\"valid\"))\n",
    "smodel.add( Dropout(0.20))"
   ]
  },
  {
   "cell_type": "code",
   "execution_count": 47,
   "id": "6674fda1",
   "metadata": {},
   "outputs": [],
   "source": [
    "smodel.add(   Conv2D(filters=32, kernel_size=(3,3), activation=\"relu\", strides=(1,1), padding=\"valid\")  )\n",
    "smodel.add( MaxPooling2D(pool_size=(2,2), strides=2, padding=\"valid\"))\n",
    "smodel.add( Dropout(0.20))"
   ]
  },
  {
   "cell_type": "code",
   "execution_count": 48,
   "id": "d0f059f9",
   "metadata": {},
   "outputs": [],
   "source": [
    "smodel.add(Flatten())"
   ]
  },
  {
   "cell_type": "code",
   "execution_count": 49,
   "id": "61800dc5",
   "metadata": {},
   "outputs": [],
   "source": [
    "smodel.add( Dense(128, activation=\"relu\"))\n",
    "smodel.add(Dense(64, activation = \"relu\"))\n",
    "smodel.add(Dense(128, activation = \"relu\"))\n",
    "smodel.add(Dense(7, activation = \"softmax\"))"
   ]
  },
  {
   "cell_type": "code",
   "execution_count": 50,
   "id": "28494bdc",
   "metadata": {},
   "outputs": [],
   "source": [
    "smodel.compile(optimizer=\"adam\", loss = \"sparse_categorical_crossentropy\", metrics=[\"accuracy\"])"
   ]
  },
  {
   "cell_type": "code",
   "execution_count": 53,
   "id": "79e81c84",
   "metadata": {},
   "outputs": [
    {
     "name": "stdout",
     "output_type": "stream",
     "text": [
      "Epoch 1/10\n",
      "723/723 [==============================] - 125s 170ms/step - loss: 1.8667 - accuracy: 0.2293\n",
      "Epoch 2/10\n",
      "723/723 [==============================] - 128s 177ms/step - loss: 1.6339 - accuracy: 0.3630\n",
      "Epoch 3/10\n",
      "723/723 [==============================] - 128s 177ms/step - loss: 1.4415 - accuracy: 0.4387\n",
      "Epoch 4/10\n",
      "723/723 [==============================] - 128s 176ms/step - loss: 1.3014 - accuracy: 0.4882\n",
      "Epoch 5/10\n",
      "723/723 [==============================] - 127s 176ms/step - loss: 1.1943 - accuracy: 0.5299\n",
      "Epoch 6/10\n",
      "723/723 [==============================] - 131s 181ms/step - loss: 1.1150 - accuracy: 0.5610\n",
      "Epoch 7/10\n",
      "723/723 [==============================] - 128s 177ms/step - loss: 1.0432 - accuracy: 0.5907\n",
      "Epoch 8/10\n",
      "723/723 [==============================] - 128s 177ms/step - loss: 0.9844 - accuracy: 0.6123\n",
      "Epoch 9/10\n",
      "723/723 [==============================] - 128s 177ms/step - loss: 0.9290 - accuracy: 0.6362\n",
      "Epoch 10/10\n",
      "723/723 [==============================] - 128s 177ms/step - loss: 0.8874 - accuracy: 0.6523\n"
     ]
    },
    {
     "data": {
      "text/plain": [
       "<keras.src.callbacks.History at 0x21a765483d0>"
      ]
     },
     "execution_count": 53,
     "metadata": {},
     "output_type": "execute_result"
    }
   ],
   "source": [
    "smodel.fit(X_train, y_train, epochs = 10)"
   ]
  },
  {
   "cell_type": "code",
   "execution_count": 54,
   "id": "4220d637",
   "metadata": {},
   "outputs": [
    {
     "name": "stdout",
     "output_type": "stream",
     "text": [
      "181/181 [==============================] - 7s 36ms/step - loss: 1.1603 - accuracy: 0.5545\n"
     ]
    },
    {
     "data": {
      "text/plain": [
       "[1.1602965593338013, 0.5545171499252319]"
      ]
     },
     "execution_count": 54,
     "metadata": {},
     "output_type": "execute_result"
    }
   ],
   "source": [
    "smodel.evaluate(X_test, y_test)"
   ]
  },
  {
   "cell_type": "markdown",
   "id": "b6d55f25",
   "metadata": {},
   "source": [
    "###  Prediction"
   ]
  },
  {
   "cell_type": "code",
   "execution_count": 55,
   "id": "da589f45",
   "metadata": {},
   "outputs": [
    {
     "data": {
      "text/plain": [
       "array([[[0.56470588, 0.56470588, 0.56470588],\n",
       "        [0.58431373, 0.58431373, 0.58431373],\n",
       "        [0.61960784, 0.61960784, 0.61960784],\n",
       "        ...,\n",
       "        [0.03137255, 0.03137255, 0.03137255],\n",
       "        [0.01960784, 0.01960784, 0.01960784],\n",
       "        [0.01568627, 0.01568627, 0.01568627]],\n",
       "\n",
       "       [[0.57647059, 0.57647059, 0.57647059],\n",
       "        [0.58823529, 0.58823529, 0.58823529],\n",
       "        [0.61568627, 0.61568627, 0.61568627],\n",
       "        ...,\n",
       "        [0.02745098, 0.02745098, 0.02745098],\n",
       "        [0.01960784, 0.01960784, 0.01960784],\n",
       "        [0.01568627, 0.01568627, 0.01568627]],\n",
       "\n",
       "       [[0.60784314, 0.60784314, 0.60784314],\n",
       "        [0.60784314, 0.60784314, 0.60784314],\n",
       "        [0.60392157, 0.60392157, 0.60392157],\n",
       "        ...,\n",
       "        [0.02352941, 0.02352941, 0.02352941],\n",
       "        [0.01960784, 0.01960784, 0.01960784],\n",
       "        [0.01568627, 0.01568627, 0.01568627]],\n",
       "\n",
       "       ...,\n",
       "\n",
       "       [[0.2745098 , 0.2745098 , 0.2745098 ],\n",
       "        [0.28235294, 0.28235294, 0.28235294],\n",
       "        [0.29411765, 0.29411765, 0.29411765],\n",
       "        ...,\n",
       "        [0.30196078, 0.30196078, 0.30196078],\n",
       "        [0.31764706, 0.31764706, 0.31764706],\n",
       "        [0.3254902 , 0.3254902 , 0.3254902 ]],\n",
       "\n",
       "       [[0.25490196, 0.25490196, 0.25490196],\n",
       "        [0.25882353, 0.25882353, 0.25882353],\n",
       "        [0.27843137, 0.27843137, 0.27843137],\n",
       "        ...,\n",
       "        [0.32941176, 0.32941176, 0.32941176],\n",
       "        [0.34901961, 0.34901961, 0.34901961],\n",
       "        [0.36078431, 0.36078431, 0.36078431]],\n",
       "\n",
       "       [[0.24313725, 0.24313725, 0.24313725],\n",
       "        [0.25098039, 0.25098039, 0.25098039],\n",
       "        [0.2745098 , 0.2745098 , 0.2745098 ],\n",
       "        ...,\n",
       "        [0.34117647, 0.34117647, 0.34117647],\n",
       "        [0.36470588, 0.36470588, 0.36470588],\n",
       "        [0.37647059, 0.37647059, 0.37647059]]])"
      ]
     },
     "execution_count": 55,
     "metadata": {},
     "output_type": "execute_result"
    }
   ],
   "source": [
    "X_train[2108]"
   ]
  },
  {
   "cell_type": "code",
   "execution_count": 56,
   "id": "008594a7",
   "metadata": {},
   "outputs": [
    {
     "data": {
      "text/plain": [
       "(23110, 100, 100, 3)"
      ]
     },
     "execution_count": 56,
     "metadata": {},
     "output_type": "execute_result"
    }
   ],
   "source": [
    "X_train.shape"
   ]
  },
  {
   "cell_type": "code",
   "execution_count": 57,
   "id": "94e6e538",
   "metadata": {},
   "outputs": [
    {
     "data": {
      "text/plain": [
       "(100, 100, 3)"
      ]
     },
     "execution_count": 57,
     "metadata": {},
     "output_type": "execute_result"
    }
   ],
   "source": [
    "X_train[2108].shape"
   ]
  },
  {
   "cell_type": "code",
   "execution_count": 59,
   "id": "202448b7",
   "metadata": {},
   "outputs": [],
   "source": [
    "p_img = X_train[2108].reshape((1,)+X_train[2108].shape)"
   ]
  },
  {
   "cell_type": "code",
   "execution_count": 60,
   "id": "7644c09c",
   "metadata": {},
   "outputs": [
    {
     "name": "stdout",
     "output_type": "stream",
     "text": [
      "1/1 [==============================] - 0s 191ms/step\n"
     ]
    },
    {
     "data": {
      "text/plain": [
       "array([[6.4815328e-02, 1.8539212e-11, 6.8634138e-02, 2.2410898e-01,\n",
       "        5.1650956e-02, 5.8661687e-01, 4.1737338e-03]], dtype=float32)"
      ]
     },
     "execution_count": 60,
     "metadata": {},
     "output_type": "execute_result"
    }
   ],
   "source": [
    "smodel.predict(p_img)"
   ]
  },
  {
   "cell_type": "code",
   "execution_count": 61,
   "id": "8b3a8297",
   "metadata": {},
   "outputs": [
    {
     "name": "stdout",
     "output_type": "stream",
     "text": [
      "1/1 [==============================] - 0s 26ms/step\n"
     ]
    },
    {
     "data": {
      "text/plain": [
       "5"
      ]
     },
     "execution_count": 61,
     "metadata": {},
     "output_type": "execute_result"
    }
   ],
   "source": [
    "np.argmax(smodel.predict(p_img))"
   ]
  },
  {
   "cell_type": "code",
   "execution_count": 62,
   "id": "66c0d2cb",
   "metadata": {},
   "outputs": [
    {
     "data": {
      "text/plain": [
       "'sad'"
      ]
     },
     "execution_count": 62,
     "metadata": {},
     "output_type": "execute_result"
    }
   ],
   "source": [
    "namelist[5]"
   ]
  },
  {
   "cell_type": "code",
   "execution_count": 63,
   "id": "eb613e4b",
   "metadata": {},
   "outputs": [
    {
     "data": {
      "text/plain": [
       "<matplotlib.image.AxesImage at 0x21dbe618a50>"
      ]
     },
     "execution_count": 63,
     "metadata": {},
     "output_type": "execute_result"
    },
    {
     "data": {
      "image/png": "[encoded data removed]",
      "text/plain": [
       "<Figure size 640x480 with 1 Axes>"
      ]
     },
     "metadata": {},
     "output_type": "display_data"
    }
   ],
   "source": [
    "plt.imshow(X_train[2108])"
   ]
  },
  {
   "cell_type": "code",
   "execution_count": null,
   "id": "a401644b",
   "metadata": {},
   "outputs": [],
   "source": []
  }
 ],
 "metadata": {
  "kernelspec": {
   "display_name": "Python 3 (ipykernel)",
   "language": "python",
   "name": "python3"
  },
  "language_info": {
   "codemirror_mode": {
    "name": "ipython",
    "version": 3
   },
   "file_extension": ".py",
   "mimetype": "text/x-python",
   "name": "python",
   "nbconvert_exporter": "python",
   "pygments_lexer": "ipython3",
   "version": "3.11.4"
  }
 },
 "nbformat": 4,
 "nbformat_minor": 5
}
