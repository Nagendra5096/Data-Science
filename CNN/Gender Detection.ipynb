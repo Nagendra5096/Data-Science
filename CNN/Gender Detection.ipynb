{
 "cells": [
  {
   "cell_type": "code",
   "execution_count": 1,
   "id": "1cc9dcaa",
   "metadata": {},
   "outputs": [],
   "source": [
    "import pandas as pd"
   ]
  },
  {
   "cell_type": "code",
   "execution_count": 2,
   "id": "16d98bb7",
   "metadata": {},
   "outputs": [],
   "source": [
    "import numpy as np"
   ]
  },
  {
   "cell_type": "code",
   "execution_count": 3,
   "id": "2d22a6e4",
   "metadata": {},
   "outputs": [],
   "source": [
    "import os"
   ]
  },
  {
   "cell_type": "code",
   "execution_count": 4,
   "id": "ee0b64a5",
   "metadata": {},
   "outputs": [],
   "source": [
    "path =  \"C:/Users/hp/Desktop/Gender/\""
   ]
  },
  {
   "cell_type": "code",
   "execution_count": 5,
   "id": "791902a0",
   "metadata": {},
   "outputs": [],
   "source": [
    "path_female = path + \"female/\""
   ]
  },
  {
   "cell_type": "code",
   "execution_count": 6,
   "id": "046f5979",
   "metadata": {},
   "outputs": [],
   "source": [
    "path_male = path + \"male/\""
   ]
  },
  {
   "cell_type": "code",
   "execution_count": 7,
   "id": "6a209824",
   "metadata": {},
   "outputs": [],
   "source": [
    "img_female = os.listdir(path_female)"
   ]
  },
  {
   "cell_type": "code",
   "execution_count": 8,
   "id": "02810969",
   "metadata": {},
   "outputs": [
    {
     "data": {
      "text/plain": [
       "['131422.jpg.jpg',\n",
       " '131423.jpg.jpg',\n",
       " '131425.jpg.jpg',\n",
       " '131427.jpg.jpg',\n",
       " '131428.jpg.jpg',\n",
       " '131429.jpg.jpg',\n",
       " '131432.jpg.jpg',\n",
       " '131433.jpg.jpg',\n",
       " '131435.jpg.jpg',\n",
       " '131437.jpg.jpg',\n",
       " '131440.jpg.jpg',\n",
       " '131449.jpg.jpg',\n",
       " '131452.jpg.jpg',\n",
       " '131458.jpg.jpg',\n",
       " '131459.jpg.jpg',\n",
       " '131468.jpg.jpg',\n",
       " '131469.jpg.jpg',\n",
       " '131472.jpg.jpg',\n",
       " '131475.jpg.jpg',\n",
       " '131482.jpg.jpg',\n",
       " '131484.jpg.jpg',\n",
       " '131485.jpg.jpg',\n",
       " '131486.jpg.jpg',\n",
       " '131489.jpg.jpg',\n",
       " '131490.jpg.jpg',\n",
       " '131506.jpg.jpg',\n",
       " '131507.jpg.jpg',\n",
       " '131508.jpg.jpg',\n",
       " '131509.jpg.jpg',\n",
       " '131511.jpg.jpg',\n",
       " '131513.jpg.jpg',\n",
       " '131515.jpg.jpg',\n",
       " '131516.jpg.jpg',\n",
       " '131517.jpg.jpg',\n",
       " '131521.jpg.jpg',\n",
       " '131523.jpg.jpg',\n",
       " '131527.jpg.jpg',\n",
       " '131529.jpg.jpg',\n",
       " '131530.jpg.jpg',\n",
       " '131531.jpg.jpg',\n",
       " '131537.jpg.jpg',\n",
       " '131541.jpg.jpg',\n",
       " '131544.jpg.jpg',\n",
       " '131546.jpg.jpg',\n",
       " '131547.jpg.jpg',\n",
       " '131551.jpg.jpg',\n",
       " '131552.jpg.jpg',\n",
       " '131554.jpg.jpg',\n",
       " '131556.jpg.jpg',\n",
       " '131564.jpg.jpg',\n",
       " '131571.jpg.jpg',\n",
       " '131572.jpg.jpg',\n",
       " '131573.jpg.jpg',\n",
       " '131576.jpg.jpg',\n",
       " '131578.jpg.jpg',\n",
       " '131579.jpg.jpg',\n",
       " '131583.jpg.jpg',\n",
       " '131585.jpg.jpg',\n",
       " '131588.jpg.jpg',\n",
       " '131601.jpg.jpg',\n",
       " '131605.jpg.jpg',\n",
       " '131608.jpg.jpg',\n",
       " '131617.jpg.jpg',\n",
       " '131623.jpg.jpg',\n",
       " '131630.jpg.jpg',\n",
       " '131634.jpg.jpg',\n",
       " '131643.jpg.jpg',\n",
       " '131651.jpg.jpg',\n",
       " '131652.jpg.jpg',\n",
       " '131653.jpg.jpg',\n",
       " '131654.jpg.jpg',\n",
       " '131662.jpg.jpg',\n",
       " '131668.jpg.jpg',\n",
       " '131669.jpg.jpg',\n",
       " '131671.jpg.jpg',\n",
       " '131675.jpg.jpg',\n",
       " '131677.jpg.jpg',\n",
       " '131682.jpg.jpg',\n",
       " '131686.jpg.jpg',\n",
       " '131694.jpg.jpg',\n",
       " '131697.jpg.jpg',\n",
       " '131703.jpg.jpg',\n",
       " '131707.jpg.jpg',\n",
       " '131708.jpg.jpg',\n",
       " '131711.jpg.jpg',\n",
       " '131713.jpg.jpg',\n",
       " '131716.jpg.jpg',\n",
       " '131719.jpg.jpg',\n",
       " '131720.jpg.jpg',\n",
       " '131723.jpg.jpg',\n",
       " '131728.jpg.jpg',\n",
       " '131731.jpg.jpg',\n",
       " '131732.jpg.jpg',\n",
       " '131742.jpg.jpg',\n",
       " '131743.jpg.jpg',\n",
       " '131744.jpg.jpg',\n",
       " '131746.jpg.jpg',\n",
       " '131757.jpg.jpg',\n",
       " '131760.jpg.jpg',\n",
       " '131761.jpg.jpg',\n",
       " '131766.jpg.jpg',\n",
       " '131769.jpg.jpg',\n",
       " '131773.jpg.jpg',\n",
       " '131781.jpg.jpg',\n",
       " '131789.jpg.jpg',\n",
       " '131792.jpg.jpg',\n",
       " '131795.jpg.jpg',\n",
       " '131800.jpg.jpg',\n",
       " '131811.jpg.jpg',\n",
       " '131812.jpg.jpg',\n",
       " '131813.jpg.jpg',\n",
       " '131816.jpg.jpg',\n",
       " '131819.jpg.jpg',\n",
       " '131824.jpg.jpg',\n",
       " '131825.jpg.jpg',\n",
       " '131827.jpg.jpg',\n",
       " '131831.jpg.jpg',\n",
       " '131834.jpg.jpg',\n",
       " '131835.jpg.jpg',\n",
       " '131836.jpg.jpg',\n",
       " '131837.jpg.jpg',\n",
       " '131838.jpg.jpg',\n",
       " '131840.jpg.jpg',\n",
       " '131847.jpg.jpg',\n",
       " '131850.jpg.jpg',\n",
       " '131852.jpg.jpg',\n",
       " '131854.jpg.jpg',\n",
       " '131857.jpg.jpg',\n",
       " '131861.jpg.jpg',\n",
       " '131864.jpg.jpg',\n",
       " '131866.jpg.jpg',\n",
       " '131869.jpg.jpg',\n",
       " '131870.jpg.jpg',\n",
       " '131871.jpg.jpg',\n",
       " '131872.jpg.jpg',\n",
       " '131873.jpg.jpg',\n",
       " '131874.jpg.jpg',\n",
       " '131877.jpg.jpg',\n",
       " '131880.jpg.jpg',\n",
       " '131882.jpg.jpg',\n",
       " '131898.jpg.jpg',\n",
       " '131900.jpg.jpg',\n",
       " '131901.jpg.jpg',\n",
       " '131902.jpg.jpg',\n",
       " '131909.jpg.jpg',\n",
       " '131911.jpg.jpg',\n",
       " '131912.jpg.jpg',\n",
       " '131913.jpg.jpg',\n",
       " '131915.jpg.jpg',\n",
       " '131921.jpg.jpg',\n",
       " '131926.jpg.jpg',\n",
       " '131928.jpg.jpg',\n",
       " '131930.jpg.jpg',\n",
       " '131931.jpg.jpg',\n",
       " '131933.jpg.jpg',\n",
       " '131934.jpg.jpg',\n",
       " '131936.jpg.jpg',\n",
       " '131943.jpg.jpg',\n",
       " '131946.jpg.jpg',\n",
       " '131949.jpg.jpg',\n",
       " '131953.jpg.jpg',\n",
       " '131962.jpg.jpg',\n",
       " '131967.jpg.jpg',\n",
       " '131968.jpg.jpg',\n",
       " '131976.jpg.jpg',\n",
       " '131978.jpg.jpg',\n",
       " '131979.jpg.jpg',\n",
       " '131980.jpg.jpg',\n",
       " '131981.jpg.jpg',\n",
       " '131984.jpg.jpg',\n",
       " '131986.jpg.jpg',\n",
       " '131989.jpg.jpg',\n",
       " '131991.jpg.jpg',\n",
       " '131993.jpg.jpg',\n",
       " '131995.jpg.jpg',\n",
       " '132000.jpg.jpg',\n",
       " '132001.jpg.jpg',\n",
       " '132002.jpg.jpg',\n",
       " '132009.jpg.jpg',\n",
       " '132031.jpg.jpg',\n",
       " '132035.jpg.jpg',\n",
       " '132040.jpg.jpg',\n",
       " '132041.jpg.jpg',\n",
       " '132043.jpg.jpg',\n",
       " '132044.jpg.jpg',\n",
       " '132045.jpg.jpg',\n",
       " '132047.jpg.jpg',\n",
       " '132054.jpg.jpg',\n",
       " '132061.jpg.jpg',\n",
       " '132063.jpg.jpg',\n",
       " '132069.jpg.jpg',\n",
       " '132070.jpg.jpg',\n",
       " '132071.jpg.jpg',\n",
       " '132074.jpg.jpg',\n",
       " '132078.jpg.jpg',\n",
       " '132080.jpg.jpg',\n",
       " '132082.jpg.jpg',\n",
       " '132083.jpg.jpg',\n",
       " '132088.jpg.jpg',\n",
       " '132089.jpg.jpg',\n",
       " '132094.jpg.jpg',\n",
       " '132095.jpg.jpg',\n",
       " '132096.jpg.jpg',\n",
       " '132100.jpg.jpg',\n",
       " '132102.jpg.jpg',\n",
       " '132106.jpg.jpg',\n",
       " '132109.jpg.jpg',\n",
       " '132114.jpg.jpg',\n",
       " '132116.jpg.jpg',\n",
       " '132124.jpg.jpg',\n",
       " '132125.jpg.jpg',\n",
       " '132126.jpg.jpg',\n",
       " '132127.jpg.jpg',\n",
       " '132129.jpg.jpg',\n",
       " '132130.jpg.jpg',\n",
       " '132132.jpg.jpg',\n",
       " '132135.jpg.jpg',\n",
       " '132140.jpg.jpg',\n",
       " '132141.jpg.jpg',\n",
       " '132143.jpg.jpg',\n",
       " '132147.jpg.jpg',\n",
       " '132149.jpg.jpg',\n",
       " '132152.jpg.jpg',\n",
       " '132154.jpg.jpg',\n",
       " '132155.jpg.jpg',\n",
       " '132157.jpg.jpg',\n",
       " '132159.jpg.jpg',\n",
       " '132160.jpg.jpg',\n",
       " '132163.jpg.jpg',\n",
       " '132165.jpg.jpg',\n",
       " '132167.jpg.jpg',\n",
       " '132168.jpg.jpg',\n",
       " '132177.jpg.jpg',\n",
       " '132181.jpg.jpg',\n",
       " '132183.jpg.jpg',\n",
       " '132191.jpg.jpg',\n",
       " '132192.jpg.jpg',\n",
       " '132198.jpg.jpg',\n",
       " '132200.jpg.jpg',\n",
       " '132201.jpg.jpg',\n",
       " '132205.jpg.jpg',\n",
       " '132206.jpg.jpg',\n",
       " '132216.jpg.jpg',\n",
       " '132220.jpg.jpg',\n",
       " '132227.jpg.jpg',\n",
       " '132228.jpg.jpg',\n",
       " '132231.jpg.jpg',\n",
       " '132234.jpg.jpg',\n",
       " '132235.jpg.jpg',\n",
       " '132236.jpg.jpg',\n",
       " '132237.jpg.jpg',\n",
       " '132239.jpg.jpg',\n",
       " '132241.jpg.jpg',\n",
       " '132242.jpg.jpg',\n",
       " '132246.jpg.jpg',\n",
       " '132247.jpg.jpg',\n",
       " '132250.jpg.jpg',\n",
       " '132254.jpg.jpg',\n",
       " '132260.jpg.jpg',\n",
       " '132261.jpg.jpg',\n",
       " '132263.jpg.jpg',\n",
       " '132264.jpg.jpg',\n",
       " '132265.jpg.jpg',\n",
       " '132269.jpg.jpg',\n",
       " '132272.jpg.jpg',\n",
       " '132279.jpg.jpg',\n",
       " '132282.jpg.jpg',\n",
       " '132284.jpg.jpg',\n",
       " '132285.jpg.jpg',\n",
       " '132288.jpg.jpg',\n",
       " '132295.jpg.jpg',\n",
       " '132296.jpg.jpg',\n",
       " '132297.jpg.jpg',\n",
       " '132300.jpg.jpg',\n",
       " '132301.jpg.jpg',\n",
       " '132303.jpg.jpg',\n",
       " '132305.jpg.jpg',\n",
       " '132306.jpg.jpg',\n",
       " '132307.jpg.jpg',\n",
       " '132310.jpg.jpg',\n",
       " '132312.jpg.jpg',\n",
       " '132315.jpg.jpg',\n",
       " '132316.jpg.jpg',\n",
       " '132317.jpg.jpg',\n",
       " '132318.jpg.jpg',\n",
       " '132319.jpg.jpg',\n",
       " '132320.jpg.jpg',\n",
       " '132327.jpg.jpg',\n",
       " '132333.jpg.jpg',\n",
       " '132336.jpg.jpg',\n",
       " '132337.jpg.jpg',\n",
       " '132338.jpg.jpg',\n",
       " '132340.jpg.jpg',\n",
       " '132344.jpg.jpg',\n",
       " '132346.jpg.jpg',\n",
       " '132347.jpg.jpg',\n",
       " '132348.jpg.jpg',\n",
       " '132358.jpg.jpg',\n",
       " '132360.jpg.jpg',\n",
       " '132366.jpg.jpg',\n",
       " '132367.jpg.jpg',\n",
       " '132368.jpg.jpg',\n",
       " '132370.jpg.jpg',\n",
       " '132371.jpg.jpg',\n",
       " '132375.jpg.jpg',\n",
       " '132377.jpg.jpg',\n",
       " '132378.jpg.jpg',\n",
       " '132381.jpg.jpg',\n",
       " '132389.jpg.jpg',\n",
       " '132391.jpg.jpg',\n",
       " '132392.jpg.jpg',\n",
       " '132402.jpg.jpg',\n",
       " '132404.jpg.jpg',\n",
       " '132405.jpg.jpg',\n",
       " '132407.jpg.jpg',\n",
       " '132409.jpg.jpg',\n",
       " '132410.jpg.jpg',\n",
       " '132419.jpg.jpg',\n",
       " '132420.jpg.jpg',\n",
       " '132422.jpg.jpg',\n",
       " '132425.jpg.jpg',\n",
       " '132426.jpg.jpg',\n",
       " '132427.jpg.jpg',\n",
       " '132428.jpg.jpg',\n",
       " '132429.jpg.jpg',\n",
       " '132431.jpg.jpg',\n",
       " '132434.jpg.jpg',\n",
       " '132437.jpg.jpg',\n",
       " '132443.jpg.jpg',\n",
       " '132444.jpg.jpg',\n",
       " '132446.jpg.jpg',\n",
       " '132447.jpg.jpg',\n",
       " '132452.jpg.jpg',\n",
       " '132454.jpg.jpg',\n",
       " '132455.jpg.jpg',\n",
       " '132459.jpg.jpg',\n",
       " '132460.jpg.jpg',\n",
       " '132462.jpg.jpg',\n",
       " '132464.jpg.jpg',\n",
       " '132465.jpg.jpg',\n",
       " '132467.jpg.jpg',\n",
       " '132469.jpg.jpg',\n",
       " '132474.jpg.jpg',\n",
       " '132476.jpg.jpg',\n",
       " '132481.jpg.jpg',\n",
       " '132486.jpg.jpg',\n",
       " '132487.jpg.jpg',\n",
       " '132493.jpg.jpg',\n",
       " '132494.jpg.jpg',\n",
       " '132497.jpg.jpg',\n",
       " '132499.jpg.jpg',\n",
       " '132500.jpg.jpg',\n",
       " '132501.jpg.jpg',\n",
       " '132508.jpg.jpg',\n",
       " '132511.jpg.jpg',\n",
       " '132513.jpg.jpg',\n",
       " '132516.jpg.jpg',\n",
       " '132524.jpg.jpg',\n",
       " '132526.jpg.jpg',\n",
       " '132528.jpg.jpg',\n",
       " '132536.jpg.jpg',\n",
       " '132537.jpg.jpg',\n",
       " '132538.jpg.jpg',\n",
       " '132539.jpg.jpg',\n",
       " '132543.jpg.jpg',\n",
       " '132551.jpg.jpg',\n",
       " '132557.jpg.jpg',\n",
       " '132561.jpg.jpg',\n",
       " '132562.jpg.jpg',\n",
       " '132566.jpg.jpg',\n",
       " '132567.jpg.jpg',\n",
       " '132569.jpg.jpg',\n",
       " '132572.jpg.jpg',\n",
       " '132573.jpg.jpg',\n",
       " '132575.jpg.jpg',\n",
       " '132576.jpg.jpg',\n",
       " '132578.jpg.jpg',\n",
       " '132587.jpg.jpg',\n",
       " '132590.jpg.jpg',\n",
       " '132602.jpg.jpg',\n",
       " '132603.jpg.jpg',\n",
       " '132605.jpg.jpg',\n",
       " '132609.jpg.jpg',\n",
       " '132611.jpg.jpg',\n",
       " '132613.jpg.jpg',\n",
       " '132620.jpg.jpg',\n",
       " '132628.jpg.jpg',\n",
       " '132633.jpg.jpg',\n",
       " '132634.jpg.jpg',\n",
       " '132637.jpg.jpg',\n",
       " '132638.jpg.jpg',\n",
       " '132640.jpg.jpg',\n",
       " '132643.jpg.jpg',\n",
       " '132647.jpg.jpg',\n",
       " '132648.jpg.jpg',\n",
       " '132661.jpg.jpg',\n",
       " '132662.jpg.jpg',\n",
       " '132665.jpg.jpg',\n",
       " '132666.jpg.jpg',\n",
       " '132671.jpg.jpg',\n",
       " '132673.jpg.jpg',\n",
       " '132676.jpg.jpg',\n",
       " '132679.jpg.jpg',\n",
       " '132681.jpg.jpg',\n",
       " '132684.jpg.jpg',\n",
       " '132685.jpg.jpg',\n",
       " '132690.jpg.jpg',\n",
       " '132697.jpg.jpg',\n",
       " '132698.jpg.jpg',\n",
       " '132701.jpg.jpg',\n",
       " '132703.jpg.jpg',\n",
       " '132705.jpg.jpg',\n",
       " '132709.jpg.jpg',\n",
       " '132711.jpg.jpg',\n",
       " '132712.jpg.jpg',\n",
       " '132718.jpg.jpg',\n",
       " '132720.jpg.jpg',\n",
       " '132721.jpg.jpg',\n",
       " '132723.jpg.jpg',\n",
       " '132726.jpg.jpg',\n",
       " '132728.jpg.jpg',\n",
       " '132733.jpg.jpg',\n",
       " '132738.jpg.jpg',\n",
       " '132744.jpg.jpg',\n",
       " '132749.jpg.jpg',\n",
       " '132753.jpg.jpg',\n",
       " '132754.jpg.jpg',\n",
       " '132756.jpg.jpg',\n",
       " '132759.jpg.jpg',\n",
       " '132761.jpg.jpg',\n",
       " '132764.jpg.jpg',\n",
       " '132765.jpg.jpg',\n",
       " '132769.jpg.jpg',\n",
       " '132776.jpg.jpg',\n",
       " '132777.jpg.jpg',\n",
       " '132778.jpg.jpg',\n",
       " '132779.jpg.jpg',\n",
       " '132781.jpg.jpg',\n",
       " '132783.jpg.jpg',\n",
       " '132789.jpg.jpg',\n",
       " '132791.jpg.jpg',\n",
       " '132792.jpg.jpg',\n",
       " '132793.jpg.jpg',\n",
       " '132798.jpg.jpg',\n",
       " '132800.jpg.jpg',\n",
       " '132803.jpg.jpg',\n",
       " '132804.jpg.jpg',\n",
       " '132805.jpg.jpg',\n",
       " '132806.jpg.jpg',\n",
       " '132809.jpg.jpg',\n",
       " '132812.jpg.jpg',\n",
       " '132818.jpg.jpg',\n",
       " '132823.jpg.jpg',\n",
       " '132826.jpg.jpg',\n",
       " '132828.jpg.jpg',\n",
       " '132829.jpg.jpg',\n",
       " '132830.jpg.jpg',\n",
       " '132831.jpg.jpg',\n",
       " '132832.jpg.jpg',\n",
       " '132834.jpg.jpg',\n",
       " '132836.jpg.jpg',\n",
       " '132837.jpg.jpg',\n",
       " '132838.jpg.jpg',\n",
       " '132839.jpg.jpg',\n",
       " '132842.jpg.jpg',\n",
       " '132851.jpg.jpg',\n",
       " '132852.jpg.jpg',\n",
       " '132853.jpg.jpg',\n",
       " '132857.jpg.jpg',\n",
       " '132867.jpg.jpg',\n",
       " '132870.jpg.jpg',\n",
       " '132871.jpg.jpg',\n",
       " '132873.jpg.jpg',\n",
       " '132874.jpg.jpg',\n",
       " '132880.jpg.jpg',\n",
       " '132881.jpg.jpg',\n",
       " '132886.jpg.jpg',\n",
       " '132887.jpg.jpg',\n",
       " '132888.jpg.jpg',\n",
       " '132889.jpg.jpg',\n",
       " '132890.jpg.jpg',\n",
       " '132894.jpg.jpg',\n",
       " '132903.jpg.jpg',\n",
       " '132904.jpg.jpg',\n",
       " '132907.jpg.jpg',\n",
       " '132909.jpg.jpg',\n",
       " '132913.jpg.jpg',\n",
       " '132914.jpg.jpg',\n",
       " '132920.jpg.jpg',\n",
       " '132935.jpg.jpg',\n",
       " '132937.jpg.jpg',\n",
       " '132942.jpg.jpg',\n",
       " '132945.jpg.jpg',\n",
       " '132948.jpg.jpg',\n",
       " '132954.jpg.jpg',\n",
       " '132957.jpg.jpg',\n",
       " '132963.jpg.jpg',\n",
       " '132968.jpg.jpg',\n",
       " '132970.jpg.jpg',\n",
       " '132971.jpg.jpg',\n",
       " '132974.jpg.jpg',\n",
       " '132979.jpg.jpg',\n",
       " '132983.jpg.jpg',\n",
       " '132984.jpg.jpg',\n",
       " '132988.jpg.jpg',\n",
       " '132990.jpg.jpg',\n",
       " '132994.jpg.jpg',\n",
       " '132997.jpg.jpg',\n",
       " '133000.jpg.jpg',\n",
       " '133001.jpg.jpg',\n",
       " '133004.jpg.jpg',\n",
       " '133006.jpg.jpg',\n",
       " '133010.jpg.jpg',\n",
       " '133015.jpg.jpg',\n",
       " '133016.jpg.jpg',\n",
       " '133017.jpg.jpg',\n",
       " '133024.jpg.jpg',\n",
       " '133031.jpg.jpg',\n",
       " '133035.jpg.jpg',\n",
       " '133038.jpg.jpg',\n",
       " '133040.jpg.jpg',\n",
       " '133043.jpg.jpg',\n",
       " '133044.jpg.jpg',\n",
       " '133045.jpg.jpg',\n",
       " '133046.jpg.jpg',\n",
       " '133058.jpg.jpg',\n",
       " '133060.jpg.jpg',\n",
       " '133061.jpg.jpg',\n",
       " '133063.jpg.jpg',\n",
       " '133069.jpg.jpg',\n",
       " '133070.jpg.jpg',\n",
       " '133071.jpg.jpg',\n",
       " '133073.jpg.jpg',\n",
       " '133079.jpg.jpg',\n",
       " '133080.jpg.jpg',\n",
       " '133082.jpg.jpg',\n",
       " '133085.jpg.jpg',\n",
       " '133091.jpg.jpg',\n",
       " '133093.jpg.jpg',\n",
       " '133094.jpg.jpg',\n",
       " '133096.jpg.jpg',\n",
       " '133100.jpg.jpg',\n",
       " '133102.jpg.jpg',\n",
       " '133104.jpg.jpg',\n",
       " '133106.jpg.jpg',\n",
       " '133107.jpg.jpg',\n",
       " '133110.jpg.jpg',\n",
       " '133112.jpg.jpg',\n",
       " '133113.jpg.jpg',\n",
       " '133116.jpg.jpg',\n",
       " '133117.jpg.jpg',\n",
       " '133118.jpg.jpg',\n",
       " '133119.jpg.jpg',\n",
       " '133129.jpg.jpg',\n",
       " '133130.jpg.jpg',\n",
       " '133132.jpg.jpg',\n",
       " '133134.jpg.jpg',\n",
       " '133139.jpg.jpg',\n",
       " '133146.jpg.jpg',\n",
       " '133149.jpg.jpg',\n",
       " '133157.jpg.jpg',\n",
       " '133158.jpg.jpg',\n",
       " '133162.jpg.jpg',\n",
       " '133164.jpg.jpg',\n",
       " '133166.jpg.jpg',\n",
       " '133169.jpg.jpg',\n",
       " '133175.jpg.jpg',\n",
       " '133176.jpg.jpg',\n",
       " '133186.jpg.jpg',\n",
       " '133187.jpg.jpg',\n",
       " '133201.jpg.jpg',\n",
       " '133205.jpg.jpg',\n",
       " '133209.jpg.jpg',\n",
       " '133211.jpg.jpg',\n",
       " '133212.jpg.jpg',\n",
       " '133218.jpg.jpg',\n",
       " '133224.jpg.jpg',\n",
       " '133233.jpg.jpg',\n",
       " '133236.jpg.jpg',\n",
       " '133240.jpg.jpg',\n",
       " '133245.jpg.jpg',\n",
       " '133246.jpg.jpg',\n",
       " '133248.jpg.jpg',\n",
       " '133249.jpg.jpg',\n",
       " '133250.jpg.jpg',\n",
       " '133251.jpg.jpg',\n",
       " '133263.jpg.jpg',\n",
       " '133264.jpg.jpg',\n",
       " '133265.jpg.jpg',\n",
       " '133266.jpg.jpg',\n",
       " '133269.jpg.jpg',\n",
       " '133273.jpg.jpg',\n",
       " '133275.jpg.jpg',\n",
       " '133279.jpg.jpg',\n",
       " '133281.jpg.jpg',\n",
       " '133282.jpg.jpg',\n",
       " '133284.jpg.jpg',\n",
       " '133285.jpg.jpg',\n",
       " '133286.jpg.jpg',\n",
       " '133287.jpg.jpg',\n",
       " '133288.jpg.jpg',\n",
       " '133292.jpg.jpg',\n",
       " '133297.jpg.jpg',\n",
       " '133298.jpg.jpg',\n",
       " '133302.jpg.jpg',\n",
       " '133310.jpg.jpg',\n",
       " '133316.jpg.jpg',\n",
       " '133319.jpg.jpg',\n",
       " '133321.jpg.jpg',\n",
       " '133331.jpg.jpg',\n",
       " '133334.jpg.jpg',\n",
       " '133341.jpg.jpg',\n",
       " '133346.jpg.jpg',\n",
       " '133349.jpg.jpg',\n",
       " '133356.jpg.jpg',\n",
       " '133372.jpg.jpg',\n",
       " '133373.jpg.jpg',\n",
       " '133376.jpg.jpg',\n",
       " '133377.jpg.jpg',\n",
       " '133381.jpg.jpg',\n",
       " '133383.jpg.jpg',\n",
       " '133384.jpg.jpg',\n",
       " '133385.jpg.jpg',\n",
       " '133386.jpg.jpg',\n",
       " '133393.jpg.jpg',\n",
       " '133398.jpg.jpg',\n",
       " '133399.jpg.jpg',\n",
       " '133400.jpg.jpg',\n",
       " '133401.jpg.jpg',\n",
       " '133410.jpg.jpg',\n",
       " '133414.jpg.jpg',\n",
       " '133415.jpg.jpg',\n",
       " '133421.jpg.jpg',\n",
       " '133426.jpg.jpg',\n",
       " '133428.jpg.jpg',\n",
       " '133432.jpg.jpg',\n",
       " '133434.jpg.jpg',\n",
       " '133438.jpg.jpg',\n",
       " '133442.jpg.jpg',\n",
       " '133448.jpg.jpg',\n",
       " '133452.jpg.jpg',\n",
       " '133457.jpg.jpg',\n",
       " '133459.jpg.jpg',\n",
       " '133469.jpg.jpg',\n",
       " '133472.jpg.jpg',\n",
       " '133481.jpg.jpg',\n",
       " '133484.jpg.jpg',\n",
       " '133485.jpg.jpg',\n",
       " '133486.jpg.jpg',\n",
       " '133487.jpg.jpg',\n",
       " '133488.jpg.jpg',\n",
       " '133490.jpg.jpg',\n",
       " '133492.jpg.jpg',\n",
       " '133495.jpg.jpg',\n",
       " '133497.jpg.jpg',\n",
       " '133498.jpg.jpg',\n",
       " '133502.jpg.jpg',\n",
       " '133503.jpg.jpg',\n",
       " '133506.jpg.jpg',\n",
       " '133509.jpg.jpg',\n",
       " '133511.jpg.jpg',\n",
       " '133512.jpg.jpg',\n",
       " '133515.jpg.jpg',\n",
       " '133520.jpg.jpg',\n",
       " '133528.jpg.jpg',\n",
       " '133529.jpg.jpg',\n",
       " '133530.jpg.jpg',\n",
       " '133532.jpg.jpg',\n",
       " '133535.jpg.jpg',\n",
       " '133543.jpg.jpg',\n",
       " '133544.jpg.jpg',\n",
       " '133546.jpg.jpg',\n",
       " '133550.jpg.jpg',\n",
       " '133553.jpg.jpg',\n",
       " '133554.jpg.jpg',\n",
       " '133555.jpg.jpg',\n",
       " '133556.jpg.jpg',\n",
       " '133559.jpg.jpg',\n",
       " '133560.jpg.jpg',\n",
       " '133562.jpg.jpg',\n",
       " '133563.jpg.jpg',\n",
       " '133564.jpg.jpg',\n",
       " '133566.jpg.jpg',\n",
       " '133567.jpg.jpg',\n",
       " '133570.jpg.jpg',\n",
       " '133572.jpg.jpg',\n",
       " '133579.jpg.jpg',\n",
       " '133581.jpg.jpg',\n",
       " '133589.jpg.jpg',\n",
       " '133592.jpg.jpg',\n",
       " '133595.jpg.jpg',\n",
       " '133598.jpg.jpg',\n",
       " '133601.jpg.jpg',\n",
       " '133602.jpg.jpg',\n",
       " '133604.jpg.jpg',\n",
       " '133606.jpg.jpg',\n",
       " '133609.jpg.jpg',\n",
       " '133613.jpg.jpg',\n",
       " '133615.jpg.jpg',\n",
       " '133616.jpg.jpg',\n",
       " '133617.jpg.jpg',\n",
       " '133619.jpg.jpg',\n",
       " '133623.jpg.jpg',\n",
       " '133624.jpg.jpg',\n",
       " '133628.jpg.jpg',\n",
       " '133630.jpg.jpg',\n",
       " '133632.jpg.jpg',\n",
       " '133635.jpg.jpg',\n",
       " '133636.jpg.jpg',\n",
       " '133637.jpg.jpg',\n",
       " '133646.jpg.jpg',\n",
       " '133647.jpg.jpg',\n",
       " '133648.jpg.jpg',\n",
       " '133650.jpg.jpg',\n",
       " '133651.jpg.jpg',\n",
       " '133652.jpg.jpg',\n",
       " '133653.jpg.jpg',\n",
       " '133657.jpg.jpg',\n",
       " '133658.jpg.jpg',\n",
       " '133663.jpg.jpg',\n",
       " '133668.jpg.jpg',\n",
       " '133669.jpg.jpg',\n",
       " '133670.jpg.jpg',\n",
       " '133674.jpg.jpg',\n",
       " '133675.jpg.jpg',\n",
       " '133677.jpg.jpg',\n",
       " '133680.jpg.jpg',\n",
       " '133681.jpg.jpg',\n",
       " '133682.jpg.jpg',\n",
       " '133685.jpg.jpg',\n",
       " '133687.jpg.jpg',\n",
       " '133692.jpg.jpg',\n",
       " '133695.jpg.jpg',\n",
       " '133697.jpg.jpg',\n",
       " '133703.jpg.jpg',\n",
       " '133705.jpg.jpg',\n",
       " '133707.jpg.jpg',\n",
       " '133708.jpg.jpg',\n",
       " '133714.jpg.jpg',\n",
       " '133728.jpg.jpg',\n",
       " '133731.jpg.jpg',\n",
       " '133733.jpg.jpg',\n",
       " '133735.jpg.jpg',\n",
       " '133736.jpg.jpg',\n",
       " '133739.jpg.jpg',\n",
       " '133743.jpg.jpg',\n",
       " '133746.jpg.jpg',\n",
       " '133747.jpg.jpg',\n",
       " '133748.jpg.jpg',\n",
       " '133749.jpg.jpg',\n",
       " '133751.jpg.jpg',\n",
       " '133752.jpg.jpg',\n",
       " '133755.jpg.jpg',\n",
       " '133758.jpg.jpg',\n",
       " '133760.jpg.jpg',\n",
       " '133765.jpg.jpg',\n",
       " '133767.jpg.jpg',\n",
       " '133769.jpg.jpg',\n",
       " '133771.jpg.jpg',\n",
       " '133777.jpg.jpg',\n",
       " '133779.jpg.jpg',\n",
       " '133781.jpg.jpg',\n",
       " '133790.jpg.jpg',\n",
       " '133791.jpg.jpg',\n",
       " '133792.jpg.jpg',\n",
       " '133794.jpg.jpg',\n",
       " '133795.jpg.jpg',\n",
       " '133796.jpg.jpg',\n",
       " '133799.jpg.jpg',\n",
       " '133801.jpg.jpg',\n",
       " '133806.jpg.jpg',\n",
       " '133811.jpg.jpg',\n",
       " '133812.jpg.jpg',\n",
       " '133819.jpg.jpg',\n",
       " '133820.jpg.jpg',\n",
       " '133821.jpg.jpg',\n",
       " '133825.jpg.jpg',\n",
       " '133832.jpg.jpg',\n",
       " '133837.jpg.jpg',\n",
       " '133838.jpg.jpg',\n",
       " '133842.jpg.jpg',\n",
       " '133847.jpg.jpg',\n",
       " '133848.jpg.jpg',\n",
       " '133851.jpg.jpg',\n",
       " '133855.jpg.jpg',\n",
       " '133856.jpg.jpg',\n",
       " '133861.jpg.jpg',\n",
       " '133863.jpg.jpg',\n",
       " '133865.jpg.jpg',\n",
       " '133872.jpg.jpg',\n",
       " '133874.jpg.jpg',\n",
       " '133875.jpg.jpg',\n",
       " '133877.jpg.jpg',\n",
       " '133879.jpg.jpg',\n",
       " '133892.jpg.jpg',\n",
       " '133894.jpg.jpg',\n",
       " '133895.jpg.jpg',\n",
       " '133900.jpg.jpg',\n",
       " '133902.jpg.jpg',\n",
       " '133905.jpg.jpg',\n",
       " '133906.jpg.jpg',\n",
       " '133908.jpg.jpg',\n",
       " '133916.jpg.jpg',\n",
       " '133917.jpg.jpg',\n",
       " '133919.jpg.jpg',\n",
       " '133921.jpg.jpg',\n",
       " '133923.jpg.jpg',\n",
       " '133926.jpg.jpg',\n",
       " '133937.jpg.jpg',\n",
       " '133938.jpg.jpg',\n",
       " '133944.jpg.jpg',\n",
       " '133945.jpg.jpg',\n",
       " '133946.jpg.jpg',\n",
       " '133947.jpg.jpg',\n",
       " '133948.jpg.jpg',\n",
       " '133950.jpg.jpg',\n",
       " '133951.jpg.jpg',\n",
       " '133952.jpg.jpg',\n",
       " '133954.jpg.jpg',\n",
       " '133956.jpg.jpg',\n",
       " '133957.jpg.jpg',\n",
       " '133966.jpg.jpg',\n",
       " '133967.jpg.jpg',\n",
       " '133968.jpg.jpg',\n",
       " '133969.jpg.jpg',\n",
       " '133970.jpg.jpg',\n",
       " '133971.jpg.jpg',\n",
       " '133975.jpg.jpg',\n",
       " '133979.jpg.jpg',\n",
       " '133982.jpg.jpg',\n",
       " '133984.jpg.jpg',\n",
       " '133986.jpg.jpg',\n",
       " '133992.jpg.jpg',\n",
       " '133993.jpg.jpg',\n",
       " '133994.jpg.jpg',\n",
       " '133995.jpg.jpg',\n",
       " '133997.jpg.jpg',\n",
       " '134004.jpg.jpg',\n",
       " '134005.jpg.jpg',\n",
       " '134008.jpg.jpg',\n",
       " '134011.jpg.jpg',\n",
       " '134012.jpg.jpg',\n",
       " '134013.jpg.jpg',\n",
       " '134024.jpg.jpg',\n",
       " '134025.jpg.jpg',\n",
       " '134029.jpg.jpg',\n",
       " '134033.jpg.jpg',\n",
       " '134034.jpg.jpg',\n",
       " '134037.jpg.jpg',\n",
       " '134040.jpg.jpg',\n",
       " '134044.jpg.jpg',\n",
       " '134045.jpg.jpg',\n",
       " '134047.jpg.jpg',\n",
       " '134051.jpg.jpg',\n",
       " '134054.jpg.jpg',\n",
       " '134055.jpg.jpg',\n",
       " '134057.jpg.jpg',\n",
       " '134059.jpg.jpg',\n",
       " '134068.jpg.jpg',\n",
       " '134069.jpg.jpg',\n",
       " '134073.jpg.jpg',\n",
       " '134075.jpg.jpg',\n",
       " '134077.jpg.jpg',\n",
       " '134078.jpg.jpg',\n",
       " '134081.jpg.jpg',\n",
       " '134083.jpg.jpg',\n",
       " '134084.jpg.jpg',\n",
       " '134087.jpg.jpg',\n",
       " '134088.jpg.jpg',\n",
       " '134091.jpg.jpg',\n",
       " '134101.jpg.jpg',\n",
       " '134102.jpg.jpg',\n",
       " '134103.jpg.jpg',\n",
       " '134104.jpg.jpg',\n",
       " '134106.jpg.jpg',\n",
       " '134107.jpg.jpg',\n",
       " '134108.jpg.jpg',\n",
       " '134109.jpg.jpg',\n",
       " '134110.jpg.jpg',\n",
       " '134112.jpg.jpg',\n",
       " '134126.jpg.jpg',\n",
       " '134127.jpg.jpg',\n",
       " '134128.jpg.jpg',\n",
       " '134132.jpg.jpg',\n",
       " '134133.jpg.jpg',\n",
       " '134134.jpg.jpg',\n",
       " '134137.jpg.jpg',\n",
       " '134138.jpg.jpg',\n",
       " '134139.jpg.jpg',\n",
       " '134142.jpg.jpg',\n",
       " '134145.jpg.jpg',\n",
       " '134148.jpg.jpg',\n",
       " '134149.jpg.jpg',\n",
       " '134150.jpg.jpg',\n",
       " '134158.jpg.jpg',\n",
       " '134160.jpg.jpg',\n",
       " '134164.jpg.jpg',\n",
       " '134165.jpg.jpg',\n",
       " '134167.jpg.jpg',\n",
       " '134169.jpg.jpg',\n",
       " '134177.jpg.jpg',\n",
       " '134179.jpg.jpg',\n",
       " '134180.jpg.jpg',\n",
       " '134185.jpg.jpg',\n",
       " '134189.jpg.jpg',\n",
       " '134190.jpg.jpg',\n",
       " '134191.jpg.jpg',\n",
       " '134199.jpg.jpg',\n",
       " '134202.jpg.jpg',\n",
       " '134204.jpg.jpg',\n",
       " '134205.jpg.jpg',\n",
       " '134211.jpg.jpg',\n",
       " '134212.jpg.jpg',\n",
       " '134217.jpg.jpg',\n",
       " '134218.jpg.jpg',\n",
       " '134220.jpg.jpg',\n",
       " '134221.jpg.jpg',\n",
       " '134223.jpg.jpg',\n",
       " '134226.jpg.jpg',\n",
       " '134227.jpg.jpg',\n",
       " '134228.jpg.jpg',\n",
       " '134229.jpg.jpg',\n",
       " '134234.jpg.jpg',\n",
       " '134236.jpg.jpg',\n",
       " '134237.jpg.jpg',\n",
       " '134241.jpg.jpg',\n",
       " '134244.jpg.jpg',\n",
       " '134248.jpg.jpg',\n",
       " '134250.jpg.jpg',\n",
       " '134255.jpg.jpg',\n",
       " '134262.jpg.jpg',\n",
       " '134264.jpg.jpg',\n",
       " '134273.jpg.jpg',\n",
       " '134285.jpg.jpg',\n",
       " '134286.jpg.jpg',\n",
       " '134294.jpg.jpg',\n",
       " '134296.jpg.jpg',\n",
       " '134299.jpg.jpg',\n",
       " '134303.jpg.jpg',\n",
       " '134306.jpg.jpg',\n",
       " '134307.jpg.jpg',\n",
       " '134308.jpg.jpg',\n",
       " '134313.jpg.jpg',\n",
       " '134318.jpg.jpg',\n",
       " '134319.jpg.jpg',\n",
       " '134320.jpg.jpg',\n",
       " '134324.jpg.jpg',\n",
       " '134330.jpg.jpg',\n",
       " '134331.jpg.jpg',\n",
       " '134335.jpg.jpg',\n",
       " '134336.jpg.jpg',\n",
       " '134337.jpg.jpg',\n",
       " '134340.jpg.jpg',\n",
       " '134341.jpg.jpg',\n",
       " '134345.jpg.jpg',\n",
       " '134346.jpg.jpg',\n",
       " '134348.jpg.jpg',\n",
       " '134349.jpg.jpg',\n",
       " '134352.jpg.jpg',\n",
       " '134353.jpg.jpg',\n",
       " '134357.jpg.jpg',\n",
       " '134358.jpg.jpg',\n",
       " '134362.jpg.jpg',\n",
       " '134363.jpg.jpg',\n",
       " '134364.jpg.jpg',\n",
       " '134367.jpg.jpg',\n",
       " '134378.jpg.jpg',\n",
       " '134384.jpg.jpg',\n",
       " '134385.jpg.jpg',\n",
       " '134386.jpg.jpg',\n",
       " '134390.jpg.jpg',\n",
       " '134392.jpg.jpg',\n",
       " '134393.jpg.jpg',\n",
       " '134394.jpg.jpg',\n",
       " '134399.jpg.jpg',\n",
       " '134402.jpg.jpg',\n",
       " '134410.jpg.jpg',\n",
       " '134412.jpg.jpg',\n",
       " '134417.jpg.jpg',\n",
       " '134419.jpg.jpg',\n",
       " '134422.jpg.jpg',\n",
       " '134428.jpg.jpg',\n",
       " '134433.jpg.jpg',\n",
       " '134435.jpg.jpg',\n",
       " '134444.jpg.jpg',\n",
       " '134446.jpg.jpg',\n",
       " '134447.jpg.jpg',\n",
       " '134449.jpg.jpg',\n",
       " '134456.jpg.jpg',\n",
       " '134457.jpg.jpg',\n",
       " '134467.jpg.jpg',\n",
       " '134468.jpg.jpg',\n",
       " '134472.jpg.jpg',\n",
       " '134474.jpg.jpg',\n",
       " '134485.jpg.jpg',\n",
       " '134486.jpg.jpg',\n",
       " '134493.jpg.jpg',\n",
       " '134496.jpg.jpg',\n",
       " '134498.jpg.jpg',\n",
       " '134499.jpg.jpg',\n",
       " ...]"
      ]
     },
     "execution_count": 8,
     "metadata": {},
     "output_type": "execute_result"
    }
   ],
   "source": [
    "img_female"
   ]
  },
  {
   "cell_type": "code",
   "execution_count": 9,
   "id": "057e21e7",
   "metadata": {},
   "outputs": [],
   "source": [
    "import matplotlib.pyplot as plt"
   ]
  },
  {
   "cell_type": "code",
   "execution_count": 10,
   "id": "b161a477",
   "metadata": {},
   "outputs": [],
   "source": [
    "img = plt.imread(path_female+img_female[0])"
   ]
  },
  {
   "cell_type": "code",
   "execution_count": 11,
   "id": "006c3395",
   "metadata": {},
   "outputs": [
    {
     "data": {
      "text/plain": [
       "array([[[39, 39, 37],\n",
       "        [44, 44, 42],\n",
       "        [45, 45, 43],\n",
       "        ...,\n",
       "        [53, 53, 55],\n",
       "        [56, 56, 58],\n",
       "        [43, 43, 45]],\n",
       "\n",
       "       [[34, 34, 32],\n",
       "        [34, 34, 32],\n",
       "        [30, 30, 28],\n",
       "        ...,\n",
       "        [56, 56, 58],\n",
       "        [51, 51, 53],\n",
       "        [65, 65, 67]],\n",
       "\n",
       "       [[29, 29, 27],\n",
       "        [34, 34, 32],\n",
       "        [30, 30, 28],\n",
       "        ...,\n",
       "        [62, 62, 64],\n",
       "        [57, 57, 59],\n",
       "        [65, 65, 67]],\n",
       "\n",
       "       ...,\n",
       "\n",
       "       [[16, 28, 18],\n",
       "        [10, 20, 11],\n",
       "        [ 9, 16,  8],\n",
       "        ...,\n",
       "        [14, 16, 15],\n",
       "        [21, 23, 22],\n",
       "        [24, 26, 25]],\n",
       "\n",
       "       [[16, 24, 13],\n",
       "        [ 9, 17,  6],\n",
       "        [ 9, 14,  7],\n",
       "        ...,\n",
       "        [19, 19, 21],\n",
       "        [16, 16, 18],\n",
       "        [12, 12, 14]],\n",
       "\n",
       "       [[16, 24, 13],\n",
       "        [ 9, 17,  6],\n",
       "        [ 9, 14,  7],\n",
       "        ...,\n",
       "        [20, 20, 22],\n",
       "        [18, 18, 20],\n",
       "        [15, 15, 17]]], dtype=uint8)"
      ]
     },
     "execution_count": 11,
     "metadata": {},
     "output_type": "execute_result"
    }
   ],
   "source": [
    "img"
   ]
  },
  {
   "cell_type": "code",
   "execution_count": 12,
   "id": "ddf90521",
   "metadata": {},
   "outputs": [
    {
     "data": {
      "text/plain": [
       "<matplotlib.image.AxesImage at 0x21061d2fcd0>"
      ]
     },
     "execution_count": 12,
     "metadata": {},
     "output_type": "execute_result"
    },
    {
     "data": {
      "image/png": "[encoded data removed]",
      "text/plain": [
       "<Figure size 640x480 with 1 Axes>"
      ]
     },
     "metadata": {},
     "output_type": "display_data"
    }
   ],
   "source": [
    "plt.imshow(img)"
   ]
  },
  {
   "cell_type": "code",
   "execution_count": 13,
   "id": "68e82706",
   "metadata": {},
   "outputs": [],
   "source": [
    "img_male = os.listdir(path_male)"
   ]
  },
  {
   "cell_type": "code",
   "execution_count": 14,
   "id": "f907cc5f",
   "metadata": {},
   "outputs": [],
   "source": [
    "img1 = plt.imread(path_male+img_male[0])"
   ]
  },
  {
   "cell_type": "code",
   "execution_count": 15,
   "id": "50756610",
   "metadata": {},
   "outputs": [
    {
     "data": {
      "text/plain": [
       "array([[[ 28,   7,   4],\n",
       "        [ 27,   6,   3],\n",
       "        [ 25,   6,   2],\n",
       "        ...,\n",
       "        [ 54,  33,  14],\n",
       "        [ 58,  37,  18],\n",
       "        [ 52,  29,  11]],\n",
       "\n",
       "       [[ 28,   7,   4],\n",
       "        [ 27,   6,   3],\n",
       "        [ 25,   6,   2],\n",
       "        ...,\n",
       "        [ 57,  34,  16],\n",
       "        [ 57,  34,  16],\n",
       "        [ 55,  32,  14]],\n",
       "\n",
       "       [[ 27,   6,   5],\n",
       "        [ 26,   6,   5],\n",
       "        [ 23,   5,   1],\n",
       "        ...,\n",
       "        [ 52,  26,   9],\n",
       "        [ 58,  32,  15],\n",
       "        [ 66,  40,  23]],\n",
       "\n",
       "       ...,\n",
       "\n",
       "       [[185, 128, 135],\n",
       "        [178, 117, 124],\n",
       "        [179, 114, 120],\n",
       "        ...,\n",
       "        [  2,   0,   1],\n",
       "        [  1,   1,   1],\n",
       "        [  0,   0,   0]],\n",
       "\n",
       "       [[183, 126, 133],\n",
       "        [179, 120, 126],\n",
       "        [181, 119, 124],\n",
       "        ...,\n",
       "        [  1,   0,   0],\n",
       "        [  1,   1,   1],\n",
       "        [  0,   0,   0]],\n",
       "\n",
       "       [[181, 126, 132],\n",
       "        [179, 122, 128],\n",
       "        [184, 123, 128],\n",
       "        ...,\n",
       "        [  1,   0,   0],\n",
       "        [  0,   0,   0],\n",
       "        [  0,   0,   0]]], dtype=uint8)"
      ]
     },
     "execution_count": 15,
     "metadata": {},
     "output_type": "execute_result"
    }
   ],
   "source": [
    "img1"
   ]
  },
  {
   "cell_type": "code",
   "execution_count": 16,
   "id": "ebf31f3b",
   "metadata": {},
   "outputs": [
    {
     "data": {
      "text/plain": [
       "<matplotlib.image.AxesImage at 0x21062757910>"
      ]
     },
     "execution_count": 16,
     "metadata": {},
     "output_type": "execute_result"
    },
    {
     "data": {
      "image/png": "[encoded data removed]",
      "text/plain": [
       "<Figure size 640x480 with 1 Axes>"
      ]
     },
     "metadata": {},
     "output_type": "display_data"
    }
   ],
   "source": [
    "plt.imshow(img1)"
   ]
  },
  {
   "cell_type": "code",
   "execution_count": 17,
   "id": "d1a466d5",
   "metadata": {},
   "outputs": [],
   "source": [
    "import cv2"
   ]
  },
  {
   "cell_type": "code",
   "execution_count": 18,
   "id": "c39dcf7d",
   "metadata": {},
   "outputs": [],
   "source": [
    "import time"
   ]
  },
  {
   "cell_type": "code",
   "execution_count": 19,
   "id": "b5f07e2c",
   "metadata": {},
   "outputs": [],
   "source": [
    "img_dataset = []\n",
    "img_label = []"
   ]
  },
  {
   "cell_type": "code",
   "execution_count": 20,
   "id": "08916244",
   "metadata": {},
   "outputs": [],
   "source": [
    "for i in img_female:\n",
    "    image = cv2.imread(path_female+i)\n",
    "    image = cv2.resize(image,(100,100))\n",
    "    img_dataset.append(np.array(image))\n",
    "    img_label.append(0)"
   ]
  },
  {
   "cell_type": "code",
   "execution_count": 21,
   "id": "d9e51f6c",
   "metadata": {},
   "outputs": [
    {
     "data": {
      "text/plain": [
       "3000"
      ]
     },
     "execution_count": 21,
     "metadata": {},
     "output_type": "execute_result"
    }
   ],
   "source": [
    "len(img_dataset)"
   ]
  },
  {
   "cell_type": "code",
   "execution_count": 22,
   "id": "f793ffe0",
   "metadata": {},
   "outputs": [
    {
     "data": {
      "text/plain": [
       "3000"
      ]
     },
     "execution_count": 22,
     "metadata": {},
     "output_type": "execute_result"
    }
   ],
   "source": [
    "len(img_label)"
   ]
  },
  {
   "cell_type": "code",
   "execution_count": 23,
   "id": "97e6ef8f",
   "metadata": {},
   "outputs": [],
   "source": [
    "for j in img_male:\n",
    "    image1 = cv2.imread(path_male+j)\n",
    "    image1 = cv2.resize(image1, (100,100))\n",
    "    img_dataset.append(np.array(image1))\n",
    "    img_label.append(1)"
   ]
  },
  {
   "cell_type": "code",
   "execution_count": 26,
   "id": "bb3cc661",
   "metadata": {},
   "outputs": [
    {
     "data": {
      "text/plain": [
       "6000"
      ]
     },
     "execution_count": 26,
     "metadata": {},
     "output_type": "execute_result"
    }
   ],
   "source": [
    "len(img_dataset)"
   ]
  },
  {
   "cell_type": "code",
   "execution_count": 27,
   "id": "5b8384f6",
   "metadata": {},
   "outputs": [
    {
     "data": {
      "text/plain": [
       "6000"
      ]
     },
     "execution_count": 27,
     "metadata": {},
     "output_type": "execute_result"
    }
   ],
   "source": [
    "len(img_label)"
   ]
  },
  {
   "cell_type": "code",
   "execution_count": 28,
   "id": "69e49930",
   "metadata": {},
   "outputs": [
    {
     "data": {
      "text/plain": [
       "list"
      ]
     },
     "execution_count": 28,
     "metadata": {},
     "output_type": "execute_result"
    }
   ],
   "source": [
    "type(img_dataset)"
   ]
  },
  {
   "cell_type": "code",
   "execution_count": 29,
   "id": "cd6795d1",
   "metadata": {},
   "outputs": [
    {
     "data": {
      "text/plain": [
       "list"
      ]
     },
     "execution_count": 29,
     "metadata": {},
     "output_type": "execute_result"
    }
   ],
   "source": [
    "type(img_label)"
   ]
  },
  {
   "cell_type": "code",
   "execution_count": 30,
   "id": "8512e91e",
   "metadata": {},
   "outputs": [],
   "source": [
    "img_dataset_array = np.array(img_dataset)"
   ]
  },
  {
   "cell_type": "code",
   "execution_count": 31,
   "id": "e6d3b68a",
   "metadata": {},
   "outputs": [],
   "source": [
    "img_label_array = np.array(img_label)"
   ]
  },
  {
   "cell_type": "code",
   "execution_count": 32,
   "id": "6195b577",
   "metadata": {},
   "outputs": [
    {
     "data": {
      "text/plain": [
       "numpy.ndarray"
      ]
     },
     "execution_count": 32,
     "metadata": {},
     "output_type": "execute_result"
    }
   ],
   "source": [
    "type(img_dataset_array)"
   ]
  },
  {
   "cell_type": "code",
   "execution_count": 33,
   "id": "c38b16b8",
   "metadata": {},
   "outputs": [
    {
     "data": {
      "text/plain": [
       "numpy.ndarray"
      ]
     },
     "execution_count": 33,
     "metadata": {},
     "output_type": "execute_result"
    }
   ],
   "source": [
    "type(img_label_array)"
   ]
  },
  {
   "cell_type": "markdown",
   "id": "c9dce972",
   "metadata": {},
   "source": [
    "### Scale"
   ]
  },
  {
   "cell_type": "code",
   "execution_count": 34,
   "id": "cef1a4c5",
   "metadata": {},
   "outputs": [
    {
     "data": {
      "text/plain": [
       "255"
      ]
     },
     "execution_count": 34,
     "metadata": {},
     "output_type": "execute_result"
    }
   ],
   "source": [
    "img_dataset_array.max()"
   ]
  },
  {
   "cell_type": "code",
   "execution_count": 35,
   "id": "1ad88571",
   "metadata": {},
   "outputs": [
    {
     "data": {
      "text/plain": [
       "0"
      ]
     },
     "execution_count": 35,
     "metadata": {},
     "output_type": "execute_result"
    }
   ],
   "source": [
    "img_dataset_array.min()"
   ]
  },
  {
   "cell_type": "code",
   "execution_count": 36,
   "id": "33a659c1",
   "metadata": {},
   "outputs": [],
   "source": [
    "img_dataset_scale = img_dataset_array /255.0"
   ]
  },
  {
   "cell_type": "code",
   "execution_count": 37,
   "id": "6c60da3c",
   "metadata": {},
   "outputs": [],
   "source": [
    "X = img_dataset_scale"
   ]
  },
  {
   "cell_type": "code",
   "execution_count": 38,
   "id": "6682b38e",
   "metadata": {},
   "outputs": [
    {
     "data": {
      "text/plain": [
       "array([[[[0.14117647, 0.15294118, 0.15294118],\n",
       "         [0.16078431, 0.16862745, 0.16862745],\n",
       "         [0.16470588, 0.17254902, 0.17254902],\n",
       "         ...,\n",
       "         [0.21568627, 0.21176471, 0.21176471],\n",
       "         [0.21960784, 0.21176471, 0.21176471],\n",
       "         [0.18039216, 0.17254902, 0.17254902]],\n",
       "\n",
       "        [[0.12156863, 0.12941176, 0.12941176],\n",
       "         [0.1254902 , 0.13333333, 0.13333333],\n",
       "         [0.11372549, 0.12156863, 0.12156863],\n",
       "         ...,\n",
       "         [0.22745098, 0.21960784, 0.21960784],\n",
       "         [0.21960784, 0.21176471, 0.21176471],\n",
       "         [0.2627451 , 0.25490196, 0.25490196]],\n",
       "\n",
       "        [[0.10196078, 0.10980392, 0.10980392],\n",
       "         [0.11764706, 0.1254902 , 0.1254902 ],\n",
       "         [0.11372549, 0.12156863, 0.12156863],\n",
       "         ...,\n",
       "         [0.25490196, 0.24705882, 0.24705882],\n",
       "         [0.24313725, 0.23921569, 0.23921569],\n",
       "         [0.2627451 , 0.25098039, 0.25098039]],\n",
       "\n",
       "        ...,\n",
       "\n",
       "        [[0.0745098 , 0.10980392, 0.07058824],\n",
       "         [0.05098039, 0.08627451, 0.04705882],\n",
       "         [0.04313725, 0.07058824, 0.04313725],\n",
       "         ...,\n",
       "         [0.05098039, 0.05098039, 0.05098039],\n",
       "         [0.08627451, 0.08627451, 0.07843137],\n",
       "         [0.09019608, 0.09411765, 0.08627451]],\n",
       "\n",
       "        [[0.05490196, 0.09411765, 0.0627451 ],\n",
       "         [0.03137255, 0.07058824, 0.03921569],\n",
       "         [0.02745098, 0.05882353, 0.03529412],\n",
       "         ...,\n",
       "         [0.0745098 , 0.07058824, 0.07058824],\n",
       "         [0.07058824, 0.06666667, 0.06666667],\n",
       "         [0.0627451 , 0.05882353, 0.05490196]],\n",
       "\n",
       "        [[0.05098039, 0.09411765, 0.0627451 ],\n",
       "         [0.02745098, 0.07058824, 0.03921569],\n",
       "         [0.02745098, 0.05882353, 0.03529412],\n",
       "         ...,\n",
       "         [0.08235294, 0.0745098 , 0.0745098 ],\n",
       "         [0.0745098 , 0.06666667, 0.06666667],\n",
       "         [0.06666667, 0.05882353, 0.05882353]]],\n",
       "\n",
       "\n",
       "       [[[0.10980392, 0.04313725, 0.03137255],\n",
       "         [0.10980392, 0.04313725, 0.03137255],\n",
       "         [0.09411765, 0.03529412, 0.02745098],\n",
       "         ...,\n",
       "         [0.07843137, 0.03137255, 0.02352941],\n",
       "         [0.08627451, 0.03529412, 0.02745098],\n",
       "         [0.09411765, 0.03529412, 0.02352941]],\n",
       "\n",
       "        [[0.09803922, 0.03137255, 0.01960784],\n",
       "         [0.09411765, 0.03137255, 0.02352941],\n",
       "         [0.09019608, 0.02745098, 0.01960784],\n",
       "         ...,\n",
       "         [0.0745098 , 0.03137255, 0.03137255],\n",
       "         [0.08627451, 0.03529412, 0.02745098],\n",
       "         [0.09803922, 0.03921569, 0.02745098]],\n",
       "\n",
       "        [[0.08627451, 0.02745098, 0.01960784],\n",
       "         [0.08235294, 0.02352941, 0.01568627],\n",
       "         [0.07843137, 0.01960784, 0.01960784],\n",
       "         ...,\n",
       "         [0.05882353, 0.02352941, 0.02352941],\n",
       "         [0.08627451, 0.03921569, 0.03137255],\n",
       "         [0.09803922, 0.04705882, 0.03921569]],\n",
       "\n",
       "        ...,\n",
       "\n",
       "        [[0.07058824, 0.02352941, 0.01568627],\n",
       "         [0.0745098 , 0.02745098, 0.01960784],\n",
       "         [0.0745098 , 0.02745098, 0.02745098],\n",
       "         ...,\n",
       "         [0.06666667, 0.04705882, 0.04313725],\n",
       "         [0.07058824, 0.05098039, 0.04705882],\n",
       "         [0.07058824, 0.05098039, 0.04705882]],\n",
       "\n",
       "        [[0.07058824, 0.02745098, 0.01176471],\n",
       "         [0.0745098 , 0.03137255, 0.01568627],\n",
       "         [0.0745098 , 0.02745098, 0.01960784],\n",
       "         ...,\n",
       "         [0.0627451 , 0.04313725, 0.03921569],\n",
       "         [0.06666667, 0.04705882, 0.04313725],\n",
       "         [0.0627451 , 0.04313725, 0.03137255]],\n",
       "\n",
       "        [[0.07058824, 0.02745098, 0.01176471],\n",
       "         [0.0745098 , 0.03137255, 0.01568627],\n",
       "         [0.0745098 , 0.02745098, 0.01568627],\n",
       "         ...,\n",
       "         [0.05098039, 0.03137255, 0.02745098],\n",
       "         [0.0627451 , 0.04313725, 0.03529412],\n",
       "         [0.0745098 , 0.05490196, 0.04313725]]],\n",
       "\n",
       "\n",
       "       [[[0.18823529, 0.19607843, 0.32941176],\n",
       "         [0.16862745, 0.17647059, 0.30980392],\n",
       "         [0.1254902 , 0.13333333, 0.26666667],\n",
       "         ...,\n",
       "         [0.10196078, 0.12941176, 0.22352941],\n",
       "         [0.17647059, 0.20392157, 0.30196078],\n",
       "         [0.29019608, 0.31764706, 0.41568627]],\n",
       "\n",
       "        [[0.15294118, 0.16078431, 0.29411765],\n",
       "         [0.10196078, 0.11764706, 0.24705882],\n",
       "         [0.0627451 , 0.0745098 , 0.20784314],\n",
       "         ...,\n",
       "         [0.05882353, 0.08235294, 0.17647059],\n",
       "         [0.10980392, 0.1372549 , 0.23529412],\n",
       "         [0.19215686, 0.21960784, 0.31764706]],\n",
       "\n",
       "        [[0.11372549, 0.13333333, 0.25490196],\n",
       "         [0.09803922, 0.12941176, 0.24705882],\n",
       "         [0.08235294, 0.10588235, 0.22745098],\n",
       "         ...,\n",
       "         [0.01568627, 0.03921569, 0.13333333],\n",
       "         [0.02745098, 0.05490196, 0.15294118],\n",
       "         [0.05490196, 0.08235294, 0.18039216]],\n",
       "\n",
       "        ...,\n",
       "\n",
       "        [[0.0745098 , 0.03137255, 0.39607843],\n",
       "         [0.07058824, 0.02745098, 0.39215686],\n",
       "         [0.08627451, 0.04313725, 0.40392157],\n",
       "         ...,\n",
       "         [0.16862745, 0.19607843, 0.34509804],\n",
       "         [0.16862745, 0.18823529, 0.34117647],\n",
       "         [0.16078431, 0.18039216, 0.33333333]],\n",
       "\n",
       "        [[0.1254902 , 0.07058824, 0.46666667],\n",
       "         [0.09803922, 0.04705882, 0.43529412],\n",
       "         [0.08235294, 0.03529412, 0.41568627],\n",
       "         ...,\n",
       "         [0.18039216, 0.20784314, 0.35686275],\n",
       "         [0.18431373, 0.20392157, 0.35686275],\n",
       "         [0.16862745, 0.18823529, 0.34117647]],\n",
       "\n",
       "        [[0.20784314, 0.15294118, 0.55294118],\n",
       "         [0.14901961, 0.09411765, 0.49411765],\n",
       "         [0.09803922, 0.04313725, 0.43921569],\n",
       "         ...,\n",
       "         [0.19215686, 0.21568627, 0.36470588],\n",
       "         [0.19215686, 0.21176471, 0.36470588],\n",
       "         [0.17254902, 0.19215686, 0.34509804]]],\n",
       "\n",
       "\n",
       "       ...,\n",
       "\n",
       "\n",
       "       [[[0.00392157, 0.        , 0.00784314],\n",
       "         [0.00392157, 0.        , 0.00784314],\n",
       "         [0.00392157, 0.00392157, 0.00392157],\n",
       "         ...,\n",
       "         [0.14509804, 0.14117647, 0.15294118],\n",
       "         [0.14509804, 0.14509804, 0.16078431],\n",
       "         [0.15294118, 0.15294118, 0.17647059]],\n",
       "\n",
       "        [[0.00392157, 0.        , 0.00784314],\n",
       "         [0.00392157, 0.        , 0.00784314],\n",
       "         [0.00392157, 0.00392157, 0.00392157],\n",
       "         ...,\n",
       "         [0.14509804, 0.1372549 , 0.14901961],\n",
       "         [0.14901961, 0.14509804, 0.16078431],\n",
       "         [0.16078431, 0.16078431, 0.18431373]],\n",
       "\n",
       "        [[0.00392157, 0.00392157, 0.00392157],\n",
       "         [0.00392157, 0.00392157, 0.00392157],\n",
       "         [0.00392157, 0.00392157, 0.00392157],\n",
       "         ...,\n",
       "         [0.14117647, 0.13333333, 0.14117647],\n",
       "         [0.14509804, 0.14117647, 0.15294118],\n",
       "         [0.16470588, 0.16862745, 0.18431373]],\n",
       "\n",
       "        ...,\n",
       "\n",
       "        [[0.19607843, 0.17647059, 0.18823529],\n",
       "         [0.30196078, 0.29019608, 0.29803922],\n",
       "         [0.36470588, 0.35294118, 0.36078431],\n",
       "         ...,\n",
       "         [0.11764706, 0.17647059, 0.18431373],\n",
       "         [0.11764706, 0.17647059, 0.18431373],\n",
       "         [0.1254902 , 0.17647059, 0.18431373]],\n",
       "\n",
       "        [[0.10196078, 0.08235294, 0.09019608],\n",
       "         [0.21960784, 0.20392157, 0.20784314],\n",
       "         [0.31372549, 0.29411765, 0.29803922],\n",
       "         ...,\n",
       "         [0.11764706, 0.17647059, 0.18431373],\n",
       "         [0.11764706, 0.17647059, 0.18431373],\n",
       "         [0.1254902 , 0.17647059, 0.18431373]],\n",
       "\n",
       "        [[0.03529412, 0.01176471, 0.01568627],\n",
       "         [0.03529412, 0.01568627, 0.01960784],\n",
       "         [0.14901961, 0.12941176, 0.13333333],\n",
       "         ...,\n",
       "         [0.12156863, 0.18039216, 0.18823529],\n",
       "         [0.12156863, 0.18039216, 0.18823529],\n",
       "         [0.12941176, 0.18039216, 0.18823529]]],\n",
       "\n",
       "\n",
       "       [[[0.38431373, 0.6       , 0.72156863],\n",
       "         [0.35294118, 0.56470588, 0.68235294],\n",
       "         [0.30588235, 0.51372549, 0.63137255],\n",
       "         ...,\n",
       "         [0.28627451, 0.46666667, 0.6       ],\n",
       "         [0.29019608, 0.47058824, 0.60392157],\n",
       "         [0.29411765, 0.4745098 , 0.60784314]],\n",
       "\n",
       "        [[0.36470588, 0.58039216, 0.70196078],\n",
       "         [0.31764706, 0.52941176, 0.65098039],\n",
       "         [0.27843137, 0.48627451, 0.60392157],\n",
       "         ...,\n",
       "         [0.29019608, 0.47058824, 0.60392157],\n",
       "         [0.29019608, 0.47058824, 0.60392157],\n",
       "         [0.29803922, 0.47843137, 0.61176471]],\n",
       "\n",
       "        [[0.3372549 , 0.54901961, 0.67058824],\n",
       "         [0.28627451, 0.49803922, 0.61960784],\n",
       "         [0.27058824, 0.47843137, 0.59607843],\n",
       "         ...,\n",
       "         [0.29019608, 0.4745098 , 0.6       ],\n",
       "         [0.29803922, 0.4745098 , 0.60392157],\n",
       "         [0.30588235, 0.48235294, 0.61176471]],\n",
       "\n",
       "        ...,\n",
       "\n",
       "        [[0.81960784, 0.71764706, 0.69019608],\n",
       "         [0.81176471, 0.72156863, 0.69019608],\n",
       "         [0.80392157, 0.7254902 , 0.69803922],\n",
       "         ...,\n",
       "         [0.67058824, 0.82352941, 0.84705882],\n",
       "         [0.66666667, 0.82745098, 0.83137255],\n",
       "         [0.64705882, 0.81176471, 0.80784314]],\n",
       "\n",
       "        [[0.81568627, 0.71764706, 0.67843137],\n",
       "         [0.81960784, 0.72941176, 0.69803922],\n",
       "         [0.81176471, 0.72156863, 0.69803922],\n",
       "         ...,\n",
       "         [0.67058824, 0.82352941, 0.83921569],\n",
       "         [0.65882353, 0.82352941, 0.82745098],\n",
       "         [0.63921569, 0.80392157, 0.8       ]],\n",
       "\n",
       "        [[0.81176471, 0.71372549, 0.6745098 ],\n",
       "         [0.80392157, 0.70980392, 0.67843137],\n",
       "         [0.80784314, 0.71764706, 0.69019608],\n",
       "         ...,\n",
       "         [0.6745098 , 0.82745098, 0.84313725],\n",
       "         [0.65490196, 0.81568627, 0.82352941],\n",
       "         [0.70196078, 0.86666667, 0.8627451 ]]],\n",
       "\n",
       "\n",
       "       [[[0.50980392, 0.50980392, 0.55686275],\n",
       "         [0.59215686, 0.58823529, 0.63137255],\n",
       "         [0.65882353, 0.65098039, 0.69019608],\n",
       "         ...,\n",
       "         [0.70980392, 0.69019608, 0.69803922],\n",
       "         [0.79215686, 0.78039216, 0.79215686],\n",
       "         [0.96078431, 0.95686275, 0.97254902]],\n",
       "\n",
       "        [[0.65098039, 0.64705882, 0.68627451],\n",
       "         [0.64705882, 0.64313725, 0.68235294],\n",
       "         [0.65098039, 0.63921569, 0.67843137],\n",
       "         ...,\n",
       "         [0.71372549, 0.70588235, 0.71372549],\n",
       "         [0.72941176, 0.72156863, 0.73333333],\n",
       "         [0.98431373, 0.98039216, 0.99607843]],\n",
       "\n",
       "        [[0.59215686, 0.58039216, 0.61568627],\n",
       "         [0.59215686, 0.58431373, 0.61176471],\n",
       "         [0.61176471, 0.59607843, 0.61960784],\n",
       "         ...,\n",
       "         [0.70980392, 0.70588235, 0.70980392],\n",
       "         [0.78431373, 0.78431373, 0.78823529],\n",
       "         [0.88627451, 0.88235294, 0.89019608]],\n",
       "\n",
       "        ...,\n",
       "\n",
       "        [[0.18431373, 0.25882353, 0.4627451 ],\n",
       "         [0.2       , 0.2745098 , 0.4745098 ],\n",
       "         [0.21176471, 0.27843137, 0.4745098 ],\n",
       "         ...,\n",
       "         [0.8       , 0.83921569, 0.87058824],\n",
       "         [0.8       , 0.83137255, 0.86666667],\n",
       "         [0.78823529, 0.81568627, 0.85098039]],\n",
       "\n",
       "        [[0.15294118, 0.23529412, 0.43529412],\n",
       "         [0.18039216, 0.25490196, 0.45490196],\n",
       "         [0.19607843, 0.2627451 , 0.45882353],\n",
       "         ...,\n",
       "         [0.81960784, 0.85882353, 0.89019608],\n",
       "         [0.81960784, 0.85490196, 0.88627451],\n",
       "         [0.81568627, 0.85490196, 0.88235294]],\n",
       "\n",
       "        [[0.14117647, 0.22352941, 0.42352941],\n",
       "         [0.16862745, 0.24705882, 0.44705882],\n",
       "         [0.18431373, 0.25490196, 0.45098039],\n",
       "         ...,\n",
       "         [0.83529412, 0.87843137, 0.91372549],\n",
       "         [0.83529412, 0.8745098 , 0.90588235],\n",
       "         [0.83529412, 0.8745098 , 0.90196078]]]])"
      ]
     },
     "execution_count": 38,
     "metadata": {},
     "output_type": "execute_result"
    }
   ],
   "source": [
    "X"
   ]
  },
  {
   "cell_type": "code",
   "execution_count": 39,
   "id": "f0c1ad04",
   "metadata": {},
   "outputs": [],
   "source": [
    "y = img_label_array"
   ]
  },
  {
   "cell_type": "code",
   "execution_count": 40,
   "id": "2a430fff",
   "metadata": {},
   "outputs": [],
   "source": [
    "from sklearn.model_selection import train_test_split"
   ]
  },
  {
   "cell_type": "code",
   "execution_count": 41,
   "id": "efc3a01b",
   "metadata": {},
   "outputs": [],
   "source": [
    "X_train, X_test, y_train, y_test = train_test_split(X, y, test_size=0.20)"
   ]
  },
  {
   "cell_type": "code",
   "execution_count": 42,
   "id": "758bf110",
   "metadata": {},
   "outputs": [
    {
     "data": {
      "text/plain": [
       "(4800, 100, 100, 3)"
      ]
     },
     "execution_count": 42,
     "metadata": {},
     "output_type": "execute_result"
    }
   ],
   "source": [
    "X_train.shape"
   ]
  },
  {
   "cell_type": "code",
   "execution_count": 43,
   "id": "03d70d37",
   "metadata": {},
   "outputs": [
    {
     "data": {
      "text/plain": [
       "(1200, 100, 100, 3)"
      ]
     },
     "execution_count": 43,
     "metadata": {},
     "output_type": "execute_result"
    }
   ],
   "source": [
    "X_test.shape"
   ]
  },
  {
   "cell_type": "code",
   "execution_count": 44,
   "id": "988f7fcb",
   "metadata": {},
   "outputs": [
    {
     "data": {
      "text/plain": [
       "1.0"
      ]
     },
     "execution_count": 44,
     "metadata": {},
     "output_type": "execute_result"
    }
   ],
   "source": [
    "X_train.max()"
   ]
  },
  {
   "cell_type": "code",
   "execution_count": 45,
   "id": "6b0dcc7b",
   "metadata": {},
   "outputs": [
    {
     "data": {
      "text/plain": [
       "1.0"
      ]
     },
     "execution_count": 45,
     "metadata": {},
     "output_type": "execute_result"
    }
   ],
   "source": [
    "X_test.max()"
   ]
  },
  {
   "cell_type": "code",
   "execution_count": 46,
   "id": "df21914d",
   "metadata": {},
   "outputs": [],
   "source": [
    "import tensorflow as tf"
   ]
  },
  {
   "cell_type": "code",
   "execution_count": 47,
   "id": "da023430",
   "metadata": {},
   "outputs": [],
   "source": [
    "from tensorflow.keras.models import Sequential"
   ]
  },
  {
   "cell_type": "code",
   "execution_count": 48,
   "id": "7d79d6e6",
   "metadata": {},
   "outputs": [],
   "source": [
    "from tensorflow.keras.layers import Input, Conv2D, MaxPooling2D, Dropout, Flatten, Dense"
   ]
  },
  {
   "cell_type": "code",
   "execution_count": 49,
   "id": "1fdcc704",
   "metadata": {},
   "outputs": [],
   "source": [
    "smodel = Sequential()"
   ]
  },
  {
   "cell_type": "code",
   "execution_count": 50,
   "id": "395111a1",
   "metadata": {},
   "outputs": [],
   "source": [
    "smodel.add( Input(shape = (100,100,3)) )"
   ]
  },
  {
   "cell_type": "markdown",
   "id": "dde1e824",
   "metadata": {},
   "source": [
    "###  First Convolutional Layer"
   ]
  },
  {
   "cell_type": "code",
   "execution_count": 51,
   "id": "5d9e34b6",
   "metadata": {},
   "outputs": [],
   "source": [
    "    smodel.add(   Conv2D(filters=32, kernel_size=(3,3), activation=\"relu\", strides=(1,1), padding=\"valid\")  )\n",
    "    smodel.add( MaxPooling2D(pool_size=(2,2), strides=2, padding=\"valid\"))\n",
    "    smodel.add( Dropout(0.20))"
   ]
  },
  {
   "cell_type": "markdown",
   "id": "8eedc1ef",
   "metadata": {},
   "source": [
    "### Second Convolutional Layer"
   ]
  },
  {
   "cell_type": "code",
   "execution_count": 52,
   "id": "f41d8f18",
   "metadata": {},
   "outputs": [],
   "source": [
    "smodel.add( Conv2D(filters=64, kernel_size=(3,3), activation=\"relu\", strides=(1,1), padding=\"valid\")  )\n",
    "smodel.add(MaxPooling2D(pool_size=(2,2), strides=2, padding=\"valid\"))\n",
    "smodel.add(Dropout(0.20))"
   ]
  },
  {
   "cell_type": "code",
   "execution_count": 53,
   "id": "07c21280",
   "metadata": {},
   "outputs": [],
   "source": [
    "smodel.add(Flatten())"
   ]
  },
  {
   "cell_type": "markdown",
   "id": "c8aa1d42",
   "metadata": {},
   "source": [
    "### Full Connected Layer"
   ]
  },
  {
   "cell_type": "code",
   "execution_count": 54,
   "id": "7c7e74f7",
   "metadata": {},
   "outputs": [],
   "source": [
    "smodel.add( Dense(128, activation=\"relu\"))\n",
    "smodel.add(Dense(64, activation = \"relu\"))\n",
    "smodel.add(Dense(128, activation = \"relu\"))\n",
    "smodel.add(Dense(2, activation = \"softmax\"))"
   ]
  },
  {
   "cell_type": "code",
   "execution_count": 55,
   "id": "bb32f88a",
   "metadata": {},
   "outputs": [
    {
     "name": "stdout",
     "output_type": "stream",
     "text": [
      "Model: \"sequential\"\n",
      "_________________________________________________________________\n",
      " Layer (type)                Output Shape              Param #   \n",
      "=================================================================\n",
      " conv2d (Conv2D)             (None, 98, 98, 32)        896       \n",
      "                                                                 \n",
      " max_pooling2d (MaxPooling2  (None, 49, 49, 32)        0         \n",
      " D)                                                              \n",
      "                                                                 \n",
      " dropout (Dropout)           (None, 49, 49, 32)        0         \n",
      "                                                                 \n",
      " conv2d_1 (Conv2D)           (None, 47, 47, 64)        18496     \n",
      "                                                                 \n",
      " max_pooling2d_1 (MaxPoolin  (None, 23, 23, 64)        0         \n",
      " g2D)                                                            \n",
      "                                                                 \n",
      " dropout_1 (Dropout)         (None, 23, 23, 64)        0         \n",
      "                                                                 \n",
      " flatten (Flatten)           (None, 33856)             0         \n",
      "                                                                 \n",
      " dense (Dense)               (None, 128)               4333696   \n",
      "                                                                 \n",
      " dense_1 (Dense)             (None, 64)                8256      \n",
      "                                                                 \n",
      " dense_2 (Dense)             (None, 128)               8320      \n",
      "                                                                 \n",
      " dense_3 (Dense)             (None, 2)                 258       \n",
      "                                                                 \n",
      "=================================================================\n",
      "Total params: 4369922 (16.67 MB)\n",
      "Trainable params: 4369922 (16.67 MB)\n",
      "Non-trainable params: 0 (0.00 Byte)\n",
      "_________________________________________________________________\n"
     ]
    }
   ],
   "source": [
    "smodel.summary()"
   ]
  },
  {
   "cell_type": "code",
   "execution_count": 56,
   "id": "6de671b0",
   "metadata": {},
   "outputs": [],
   "source": [
    "smodel.compile(optimizer=\"adam\", loss = \"sparse_categorical_crossentropy\", metrics=[\"accuracy\"])"
   ]
  },
  {
   "cell_type": "code",
   "execution_count": 57,
   "id": "a63b79d9",
   "metadata": {},
   "outputs": [
    {
     "name": "stdout",
     "output_type": "stream",
     "text": [
      "Epoch 1/20\n",
      "150/150 [==============================] - 46s 277ms/step - loss: 0.5335 - accuracy: 0.7290\n",
      "Epoch 2/20\n",
      "150/150 [==============================] - 41s 275ms/step - loss: 0.2976 - accuracy: 0.8827\n",
      "Epoch 3/20\n",
      "150/150 [==============================] - 41s 276ms/step - loss: 0.2408 - accuracy: 0.9085\n",
      "Epoch 4/20\n",
      "150/150 [==============================] - 53s 353ms/step - loss: 0.1871 - accuracy: 0.9258\n",
      "Epoch 5/20\n",
      "150/150 [==============================] - 46s 309ms/step - loss: 0.1912 - accuracy: 0.9190\n",
      "Epoch 6/20\n",
      "150/150 [==============================] - 41s 276ms/step - loss: 0.1754 - accuracy: 0.9329\n",
      "Epoch 7/20\n",
      "150/150 [==============================] - 48s 318ms/step - loss: 0.1397 - accuracy: 0.9446\n",
      "Epoch 8/20\n",
      "150/150 [==============================] - 58s 388ms/step - loss: 0.1056 - accuracy: 0.9596\n",
      "Epoch 9/20\n",
      "150/150 [==============================] - 47s 314ms/step - loss: 0.0944 - accuracy: 0.9606\n",
      "Epoch 10/20\n",
      "150/150 [==============================] - 47s 311ms/step - loss: 0.0850 - accuracy: 0.9673\n",
      "Epoch 11/20\n",
      "150/150 [==============================] - 47s 313ms/step - loss: 0.0549 - accuracy: 0.9785\n",
      "Epoch 12/20\n",
      "150/150 [==============================] - 47s 316ms/step - loss: 0.0660 - accuracy: 0.9744\n",
      "Epoch 13/20\n",
      "150/150 [==============================] - 45s 299ms/step - loss: 0.0579 - accuracy: 0.9790\n",
      "Epoch 14/20\n",
      "150/150 [==============================] - 39s 257ms/step - loss: 0.0327 - accuracy: 0.9865\n",
      "Epoch 15/20\n",
      "150/150 [==============================] - 39s 259ms/step - loss: 0.0462 - accuracy: 0.9837\n",
      "Epoch 16/20\n",
      "150/150 [==============================] - 39s 262ms/step - loss: 0.0248 - accuracy: 0.9908\n",
      "Epoch 17/20\n",
      "150/150 [==============================] - 40s 270ms/step - loss: 0.0342 - accuracy: 0.9858\n",
      "Epoch 18/20\n",
      "150/150 [==============================] - 38s 250ms/step - loss: 0.0385 - accuracy: 0.9875\n",
      "Epoch 19/20\n",
      "150/150 [==============================] - 37s 250ms/step - loss: 0.0215 - accuracy: 0.9931\n",
      "Epoch 20/20\n",
      "150/150 [==============================] - 39s 257ms/step - loss: 0.0273 - accuracy: 0.9894\n"
     ]
    },
    {
     "data": {
      "text/plain": [
       "<keras.src.callbacks.History at 0x210db64cb10>"
      ]
     },
     "execution_count": 57,
     "metadata": {},
     "output_type": "execute_result"
    }
   ],
   "source": [
    "smodel.fit(X_train, y_train, epochs = 20)"
   ]
  },
  {
   "cell_type": "code",
   "execution_count": 58,
   "id": "cc6be003",
   "metadata": {},
   "outputs": [
    {
     "name": "stdout",
     "output_type": "stream",
     "text": [
      "38/38 [==============================] - 3s 51ms/step - loss: 0.3713 - accuracy: 0.9200\n"
     ]
    },
    {
     "data": {
      "text/plain": [
       "[0.3712509274482727, 0.9200000166893005]"
      ]
     },
     "execution_count": 58,
     "metadata": {},
     "output_type": "execute_result"
    }
   ],
   "source": [
    "smodel.evaluate(X_test, y_test)"
   ]
  },
  {
   "cell_type": "markdown",
   "id": "0034a0c2",
   "metadata": {},
   "source": [
    "###  Prediction"
   ]
  },
  {
   "cell_type": "code",
   "execution_count": 59,
   "id": "60547537",
   "metadata": {},
   "outputs": [
    {
     "data": {
      "text/plain": [
       "array([[[0.05098039, 0.05882353, 0.05882353],\n",
       "        [0.05490196, 0.06666667, 0.06666667],\n",
       "        [0.05490196, 0.07058824, 0.07058824],\n",
       "        ...,\n",
       "        [0.15686275, 0.16470588, 0.16862745],\n",
       "        [0.15294118, 0.15686275, 0.16078431],\n",
       "        [0.16470588, 0.16078431, 0.16862745]],\n",
       "\n",
       "       [[0.05882353, 0.06666667, 0.06666667],\n",
       "        [0.0627451 , 0.07058824, 0.07058824],\n",
       "        [0.05882353, 0.0745098 , 0.0745098 ],\n",
       "        ...,\n",
       "        [0.15686275, 0.16470588, 0.16862745],\n",
       "        [0.14509804, 0.15294118, 0.15686275],\n",
       "        [0.14901961, 0.14509804, 0.15294118]],\n",
       "\n",
       "       [[0.06666667, 0.0745098 , 0.0745098 ],\n",
       "        [0.07058824, 0.07843137, 0.07843137],\n",
       "        [0.06666667, 0.07843137, 0.08235294],\n",
       "        ...,\n",
       "        [0.15686275, 0.16470588, 0.16862745],\n",
       "        [0.14117647, 0.14509804, 0.14901961],\n",
       "        [0.13333333, 0.12941176, 0.1372549 ]],\n",
       "\n",
       "       ...,\n",
       "\n",
       "       [[0.        , 0.03921569, 0.1254902 ],\n",
       "        [0.01176471, 0.06666667, 0.16470588],\n",
       "        [0.04313725, 0.10588235, 0.23529412],\n",
       "        ...,\n",
       "        [0.45098039, 0.25882353, 0.21960784],\n",
       "        [0.43921569, 0.24705882, 0.21568627],\n",
       "        [0.43137255, 0.24705882, 0.21568627]],\n",
       "\n",
       "       [[0.        , 0.05098039, 0.1372549 ],\n",
       "        [0.01568627, 0.07058824, 0.17254902],\n",
       "        [0.05490196, 0.11372549, 0.24313725],\n",
       "        ...,\n",
       "        [0.45490196, 0.25882353, 0.22352941],\n",
       "        [0.44705882, 0.25882353, 0.22745098],\n",
       "        [0.44705882, 0.25882353, 0.23137255]],\n",
       "\n",
       "       [[0.        , 0.05098039, 0.1372549 ],\n",
       "        [0.01568627, 0.0745098 , 0.17254902],\n",
       "        [0.05490196, 0.11372549, 0.24313725],\n",
       "        ...,\n",
       "        [0.46666667, 0.2627451 , 0.23137255],\n",
       "        [0.45490196, 0.25882353, 0.23137255],\n",
       "        [0.45490196, 0.25490196, 0.24313725]]])"
      ]
     },
     "execution_count": 59,
     "metadata": {},
     "output_type": "execute_result"
    }
   ],
   "source": [
    "X_train[2736]"
   ]
  },
  {
   "cell_type": "code",
   "execution_count": 60,
   "id": "0f51ddf9",
   "metadata": {},
   "outputs": [
    {
     "data": {
      "text/plain": [
       "(100, 100, 3)"
      ]
     },
     "execution_count": 60,
     "metadata": {},
     "output_type": "execute_result"
    }
   ],
   "source": [
    "X_train[2736].shape"
   ]
  },
  {
   "cell_type": "code",
   "execution_count": 61,
   "id": "af67aefa",
   "metadata": {},
   "outputs": [
    {
     "data": {
      "text/plain": [
       "(4800, 100, 100, 3)"
      ]
     },
     "execution_count": 61,
     "metadata": {},
     "output_type": "execute_result"
    }
   ],
   "source": [
    "X_train.shape"
   ]
  },
  {
   "cell_type": "code",
   "execution_count": 63,
   "id": "7b67c42e",
   "metadata": {},
   "outputs": [],
   "source": [
    "p_img = X_train[2736].reshape((1,)+X_train[2736].shape)"
   ]
  },
  {
   "cell_type": "code",
   "execution_count": 64,
   "id": "84ad97b7",
   "metadata": {},
   "outputs": [
    {
     "data": {
      "text/plain": [
       "array([[[[0.05098039, 0.05882353, 0.05882353],\n",
       "         [0.05490196, 0.06666667, 0.06666667],\n",
       "         [0.05490196, 0.07058824, 0.07058824],\n",
       "         ...,\n",
       "         [0.15686275, 0.16470588, 0.16862745],\n",
       "         [0.15294118, 0.15686275, 0.16078431],\n",
       "         [0.16470588, 0.16078431, 0.16862745]],\n",
       "\n",
       "        [[0.05882353, 0.06666667, 0.06666667],\n",
       "         [0.0627451 , 0.07058824, 0.07058824],\n",
       "         [0.05882353, 0.0745098 , 0.0745098 ],\n",
       "         ...,\n",
       "         [0.15686275, 0.16470588, 0.16862745],\n",
       "         [0.14509804, 0.15294118, 0.15686275],\n",
       "         [0.14901961, 0.14509804, 0.15294118]],\n",
       "\n",
       "        [[0.06666667, 0.0745098 , 0.0745098 ],\n",
       "         [0.07058824, 0.07843137, 0.07843137],\n",
       "         [0.06666667, 0.07843137, 0.08235294],\n",
       "         ...,\n",
       "         [0.15686275, 0.16470588, 0.16862745],\n",
       "         [0.14117647, 0.14509804, 0.14901961],\n",
       "         [0.13333333, 0.12941176, 0.1372549 ]],\n",
       "\n",
       "        ...,\n",
       "\n",
       "        [[0.        , 0.03921569, 0.1254902 ],\n",
       "         [0.01176471, 0.06666667, 0.16470588],\n",
       "         [0.04313725, 0.10588235, 0.23529412],\n",
       "         ...,\n",
       "         [0.45098039, 0.25882353, 0.21960784],\n",
       "         [0.43921569, 0.24705882, 0.21568627],\n",
       "         [0.43137255, 0.24705882, 0.21568627]],\n",
       "\n",
       "        [[0.        , 0.05098039, 0.1372549 ],\n",
       "         [0.01568627, 0.07058824, 0.17254902],\n",
       "         [0.05490196, 0.11372549, 0.24313725],\n",
       "         ...,\n",
       "         [0.45490196, 0.25882353, 0.22352941],\n",
       "         [0.44705882, 0.25882353, 0.22745098],\n",
       "         [0.44705882, 0.25882353, 0.23137255]],\n",
       "\n",
       "        [[0.        , 0.05098039, 0.1372549 ],\n",
       "         [0.01568627, 0.0745098 , 0.17254902],\n",
       "         [0.05490196, 0.11372549, 0.24313725],\n",
       "         ...,\n",
       "         [0.46666667, 0.2627451 , 0.23137255],\n",
       "         [0.45490196, 0.25882353, 0.23137255],\n",
       "         [0.45490196, 0.25490196, 0.24313725]]]])"
      ]
     },
     "execution_count": 64,
     "metadata": {},
     "output_type": "execute_result"
    }
   ],
   "source": [
    "p_img"
   ]
  },
  {
   "cell_type": "code",
   "execution_count": 65,
   "id": "a408428f",
   "metadata": {},
   "outputs": [
    {
     "name": "stdout",
     "output_type": "stream",
     "text": [
      "1/1 [==============================] - 0s 186ms/step\n"
     ]
    },
    {
     "data": {
      "text/plain": [
       "array([[7.5579196e-04, 9.9924421e-01]], dtype=float32)"
      ]
     },
     "execution_count": 65,
     "metadata": {},
     "output_type": "execute_result"
    }
   ],
   "source": [
    "smodel.predict(p_img)"
   ]
  },
  {
   "cell_type": "code",
   "execution_count": 66,
   "id": "a22d5f61",
   "metadata": {},
   "outputs": [
    {
     "name": "stdout",
     "output_type": "stream",
     "text": [
      "1/1 [==============================] - 0s 44ms/step\n"
     ]
    },
    {
     "data": {
      "text/plain": [
       "1"
      ]
     },
     "execution_count": 66,
     "metadata": {},
     "output_type": "execute_result"
    }
   ],
   "source": [
    "np.argmax(smodel.predict(p_img))"
   ]
  },
  {
   "cell_type": "code",
   "execution_count": 67,
   "id": "d6473974",
   "metadata": {},
   "outputs": [
    {
     "data": {
      "text/plain": [
       "<matplotlib.image.AxesImage at 0x210dc11a890>"
      ]
     },
     "execution_count": 67,
     "metadata": {},
     "output_type": "execute_result"
    },
    {
     "data": {
      "image/png": "[encoded data removed]",
      "text/plain": [
       "<Figure size 640x480 with 1 Axes>"
      ]
     },
     "metadata": {},
     "output_type": "display_data"
    }
   ],
   "source": [
    "plt.imshow(X_train[2736])"
   ]
  },
  {
   "cell_type": "code",
   "execution_count": 68,
   "id": "3b793600",
   "metadata": {},
   "outputs": [
    {
     "data": {
      "text/plain": [
       "(1200, 100, 100, 3)"
      ]
     },
     "execution_count": 68,
     "metadata": {},
     "output_type": "execute_result"
    }
   ],
   "source": [
    "X_test.shape"
   ]
  },
  {
   "cell_type": "code",
   "execution_count": 69,
   "id": "dbca00e1",
   "metadata": {},
   "outputs": [
    {
     "data": {
      "text/plain": [
       "array([[[0.34509804, 0.34117647, 0.35686275],\n",
       "        [0.34117647, 0.3372549 , 0.35294118],\n",
       "        [0.33333333, 0.33333333, 0.34901961],\n",
       "        ...,\n",
       "        [0.39607843, 0.39607843, 0.42352941],\n",
       "        [0.39607843, 0.4       , 0.41568627],\n",
       "        [0.44705882, 0.44313725, 0.45882353]],\n",
       "\n",
       "       [[0.35294118, 0.34901961, 0.36470588],\n",
       "        [0.34901961, 0.34509804, 0.36078431],\n",
       "        [0.34117647, 0.34117647, 0.35686275],\n",
       "        ...,\n",
       "        [0.42745098, 0.43137255, 0.45882353],\n",
       "        [0.40784314, 0.40784314, 0.42745098],\n",
       "        [0.4       , 0.39607843, 0.41176471]],\n",
       "\n",
       "       [[0.37254902, 0.36862745, 0.38431373],\n",
       "        [0.36470588, 0.36078431, 0.37647059],\n",
       "        [0.36078431, 0.36078431, 0.37647059],\n",
       "        ...,\n",
       "        [0.44313725, 0.44705882, 0.47843137],\n",
       "        [0.42352941, 0.42352941, 0.44313725],\n",
       "        [0.40392157, 0.4       , 0.41568627]],\n",
       "\n",
       "       ...,\n",
       "\n",
       "       [[0.48627451, 0.51764706, 0.6745098 ],\n",
       "        [0.48627451, 0.5254902 , 0.67843137],\n",
       "        [0.49019608, 0.53333333, 0.68235294],\n",
       "        ...,\n",
       "        [0.90588235, 0.89411765, 0.87843137],\n",
       "        [0.90588235, 0.89019608, 0.87843137],\n",
       "        [0.89803922, 0.88235294, 0.87843137]],\n",
       "\n",
       "       [[0.50196078, 0.54509804, 0.69411765],\n",
       "        [0.49411765, 0.54509804, 0.69411765],\n",
       "        [0.49411765, 0.54509804, 0.69411765],\n",
       "        ...,\n",
       "        [0.89019608, 0.87058824, 0.85882353],\n",
       "        [0.88627451, 0.86666667, 0.85490196],\n",
       "        [0.88627451, 0.86666667, 0.85490196]],\n",
       "\n",
       "       [[0.48235294, 0.53333333, 0.68235294],\n",
       "        [0.48235294, 0.53333333, 0.68235294],\n",
       "        [0.47843137, 0.53333333, 0.67843137],\n",
       "        ...,\n",
       "        [0.89411765, 0.8745098 , 0.8627451 ],\n",
       "        [0.9254902 , 0.90196078, 0.89019608],\n",
       "        [0.94117647, 0.91372549, 0.90196078]]])"
      ]
     },
     "execution_count": 69,
     "metadata": {},
     "output_type": "execute_result"
    }
   ],
   "source": [
    "X_test[859]"
   ]
  },
  {
   "cell_type": "code",
   "execution_count": 70,
   "id": "a55ebe54",
   "metadata": {},
   "outputs": [],
   "source": [
    "p_img2 = X_test[859].reshape((1,)+X_test[859].shape)"
   ]
  },
  {
   "cell_type": "code",
   "execution_count": 71,
   "id": "a6b23ece",
   "metadata": {},
   "outputs": [
    {
     "data": {
      "text/plain": [
       "(1, 100, 100, 3)"
      ]
     },
     "execution_count": 71,
     "metadata": {},
     "output_type": "execute_result"
    }
   ],
   "source": [
    "p_img2.shape"
   ]
  },
  {
   "cell_type": "code",
   "execution_count": 72,
   "id": "5818b45b",
   "metadata": {},
   "outputs": [
    {
     "name": "stdout",
     "output_type": "stream",
     "text": [
      "1/1 [==============================] - 0s 28ms/step\n"
     ]
    },
    {
     "data": {
      "text/plain": [
       "1"
      ]
     },
     "execution_count": 72,
     "metadata": {},
     "output_type": "execute_result"
    }
   ],
   "source": [
    "np.argmax( smodel.predict(p_img2))"
   ]
  },
  {
   "cell_type": "code",
   "execution_count": 73,
   "id": "7e3bcfac",
   "metadata": {},
   "outputs": [
    {
     "data": {
      "text/plain": [
       "<matplotlib.image.AxesImage at 0x210e05f8290>"
      ]
     },
     "execution_count": 73,
     "metadata": {},
     "output_type": "execute_result"
    },
    {
     "data": {
      "image/png": "[encoded data removed]",
      "text/plain": [
       "<Figure size 640x480 with 1 Axes>"
      ]
     },
     "metadata": {},
     "output_type": "display_data"
    }
   ],
   "source": [
    "plt.imshow(X_test[859])"
   ]
  },
  {
   "cell_type": "code",
   "execution_count": null,
   "id": "af267a66",
   "metadata": {},
   "outputs": [],
   "source": []
  }
 ],
 "metadata": {
  "kernelspec": {
   "display_name": "Python 3 (ipykernel)",
   "language": "python",
   "name": "python3"
  },
  "language_info": {
   "codemirror_mode": {
    "name": "ipython",
    "version": 3
   },
   "file_extension": ".py",
   "mimetype": "text/x-python",
   "name": "python",
   "nbconvert_exporter": "python",
   "pygments_lexer": "ipython3",
   "version": "3.11.4"
  }
 },
 "nbformat": 4,
 "nbformat_minor": 5
}
